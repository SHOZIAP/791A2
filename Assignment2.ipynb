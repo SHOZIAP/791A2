{
 "cells": [
  {
   "cell_type": "code",
   "execution_count": 2,
   "id": "3cb94f7c-b1b8-40e8-b90a-9c13c9bdf4b5",
   "metadata": {},
   "outputs": [
    {
     "name": "stdout",
     "output_type": "stream",
     "text": [
      "Original x_train shape: (50000, 32, 32, 3)\n",
      "Original x_test shape: (10000, 32, 32, 3)\n",
      "x_train shape after normalization: (50000, 32, 32, 3)\n",
      "x_test shape after normalization: (10000, 32, 32, 3)\n",
      "x_train shape after reshaping: (50000, 1024, 3)\n",
      "x_test shape after reshaping: (10000, 1024, 3)\n"
     ]
    }
   ],
   "source": [
    "import numpy as np\n",
    "import tensorflow as tf\n",
    "from tensorflow.keras.datasets import cifar10\n",
    "from tensorflow.keras.models import Model\n",
    "from tensorflow.keras.layers import LSTM, RepeatVector, TimeDistributed, Dense\n",
    "\n",
    "(x_train, _), (x_test, _) = cifar10.load_data()\n",
    "\n",
    "print(f\"Original x_train shape: {x_train.shape}\")\n",
    "print(f\"Original x_test shape: {x_test.shape}\")\n",
    "\n",
    "x_train = x_train.astype('float32') / 255.\n",
    "x_test = x_test.astype('float32') / 255.\n",
    "\n",
    "print(f\"x_train shape after normalization: {x_train.shape}\")\n",
    "print(f\"x_test shape after normalization: {x_test.shape}\")\n",
    "\n",
    "x_train = x_train.reshape((x_train.shape[0], -1, 3))  \n",
    "x_test = x_test.reshape((x_test.shape[0], -1, 3))\n",
    "\n",
    "print(f\"x_train shape after reshaping: {x_train.shape}\")\n",
    "print(f\"x_test shape after reshaping: {x_test.shape}\")\n"
   ]
  },
  {
   "cell_type": "code",
   "execution_count": null,
   "id": "eb515062-9330-410c-a00d-2dcfa5269e50",
   "metadata": {},
   "outputs": [
    {
     "data": {
      "text/html": [
       "<pre style=\"white-space:pre;overflow-x:auto;line-height:normal;font-family:Menlo,'DejaVu Sans Mono',consolas,'Courier New',monospace\"><span style=\"font-weight: bold\">Model: \"functional\"</span>\n",
       "</pre>\n"
      ],
      "text/plain": [
       "\u001b[1mModel: \"functional\"\u001b[0m\n"
      ]
     },
     "metadata": {},
     "output_type": "display_data"
    },
    {
     "data": {
      "text/html": [
       "<pre style=\"white-space:pre;overflow-x:auto;line-height:normal;font-family:Menlo,'DejaVu Sans Mono',consolas,'Courier New',monospace\">┏━━━━━━━━━━━━━━━━━━━━━━━━━━━━━━━━━┳━━━━━━━━━━━━━━━━━━━━━━━━┳━━━━━━━━━━━━━━━┓\n",
       "┃<span style=\"font-weight: bold\"> Layer (type)                    </span>┃<span style=\"font-weight: bold\"> Output Shape           </span>┃<span style=\"font-weight: bold\">       Param # </span>┃\n",
       "┡━━━━━━━━━━━━━━━━━━━━━━━━━━━━━━━━━╇━━━━━━━━━━━━━━━━━━━━━━━━╇━━━━━━━━━━━━━━━┩\n",
       "│ input_layer (<span style=\"color: #0087ff; text-decoration-color: #0087ff\">InputLayer</span>)        │ (<span style=\"color: #00d7ff; text-decoration-color: #00d7ff\">None</span>, <span style=\"color: #00af00; text-decoration-color: #00af00\">1024</span>, <span style=\"color: #00af00; text-decoration-color: #00af00\">3</span>)        │             <span style=\"color: #00af00; text-decoration-color: #00af00\">0</span> │\n",
       "├─────────────────────────────────┼────────────────────────┼───────────────┤\n",
       "│ lstm (<span style=\"color: #0087ff; text-decoration-color: #0087ff\">LSTM</span>)                     │ (<span style=\"color: #00d7ff; text-decoration-color: #00d7ff\">None</span>, <span style=\"color: #00af00; text-decoration-color: #00af00\">128</span>)            │        <span style=\"color: #00af00; text-decoration-color: #00af00\">67,584</span> │\n",
       "├─────────────────────────────────┼────────────────────────┼───────────────┤\n",
       "│ repeat_vector (<span style=\"color: #0087ff; text-decoration-color: #0087ff\">RepeatVector</span>)    │ (<span style=\"color: #00d7ff; text-decoration-color: #00d7ff\">None</span>, <span style=\"color: #00af00; text-decoration-color: #00af00\">1024</span>, <span style=\"color: #00af00; text-decoration-color: #00af00\">128</span>)      │             <span style=\"color: #00af00; text-decoration-color: #00af00\">0</span> │\n",
       "├─────────────────────────────────┼────────────────────────┼───────────────┤\n",
       "│ lstm_1 (<span style=\"color: #0087ff; text-decoration-color: #0087ff\">LSTM</span>)                   │ (<span style=\"color: #00d7ff; text-decoration-color: #00d7ff\">None</span>, <span style=\"color: #00af00; text-decoration-color: #00af00\">1024</span>, <span style=\"color: #00af00; text-decoration-color: #00af00\">128</span>)      │       <span style=\"color: #00af00; text-decoration-color: #00af00\">131,584</span> │\n",
       "├─────────────────────────────────┼────────────────────────┼───────────────┤\n",
       "│ time_distributed                │ (<span style=\"color: #00d7ff; text-decoration-color: #00d7ff\">None</span>, <span style=\"color: #00af00; text-decoration-color: #00af00\">1024</span>, <span style=\"color: #00af00; text-decoration-color: #00af00\">3</span>)        │           <span style=\"color: #00af00; text-decoration-color: #00af00\">387</span> │\n",
       "│ (<span style=\"color: #0087ff; text-decoration-color: #0087ff\">TimeDistributed</span>)               │                        │               │\n",
       "└─────────────────────────────────┴────────────────────────┴───────────────┘\n",
       "</pre>\n"
      ],
      "text/plain": [
       "┏━━━━━━━━━━━━━━━━━━━━━━━━━━━━━━━━━┳━━━━━━━━━━━━━━━━━━━━━━━━┳━━━━━━━━━━━━━━━┓\n",
       "┃\u001b[1m \u001b[0m\u001b[1mLayer (type)                   \u001b[0m\u001b[1m \u001b[0m┃\u001b[1m \u001b[0m\u001b[1mOutput Shape          \u001b[0m\u001b[1m \u001b[0m┃\u001b[1m \u001b[0m\u001b[1m      Param #\u001b[0m\u001b[1m \u001b[0m┃\n",
       "┡━━━━━━━━━━━━━━━━━━━━━━━━━━━━━━━━━╇━━━━━━━━━━━━━━━━━━━━━━━━╇━━━━━━━━━━━━━━━┩\n",
       "│ input_layer (\u001b[38;5;33mInputLayer\u001b[0m)        │ (\u001b[38;5;45mNone\u001b[0m, \u001b[38;5;34m1024\u001b[0m, \u001b[38;5;34m3\u001b[0m)        │             \u001b[38;5;34m0\u001b[0m │\n",
       "├─────────────────────────────────┼────────────────────────┼───────────────┤\n",
       "│ lstm (\u001b[38;5;33mLSTM\u001b[0m)                     │ (\u001b[38;5;45mNone\u001b[0m, \u001b[38;5;34m128\u001b[0m)            │        \u001b[38;5;34m67,584\u001b[0m │\n",
       "├─────────────────────────────────┼────────────────────────┼───────────────┤\n",
       "│ repeat_vector (\u001b[38;5;33mRepeatVector\u001b[0m)    │ (\u001b[38;5;45mNone\u001b[0m, \u001b[38;5;34m1024\u001b[0m, \u001b[38;5;34m128\u001b[0m)      │             \u001b[38;5;34m0\u001b[0m │\n",
       "├─────────────────────────────────┼────────────────────────┼───────────────┤\n",
       "│ lstm_1 (\u001b[38;5;33mLSTM\u001b[0m)                   │ (\u001b[38;5;45mNone\u001b[0m, \u001b[38;5;34m1024\u001b[0m, \u001b[38;5;34m128\u001b[0m)      │       \u001b[38;5;34m131,584\u001b[0m │\n",
       "├─────────────────────────────────┼────────────────────────┼───────────────┤\n",
       "│ time_distributed                │ (\u001b[38;5;45mNone\u001b[0m, \u001b[38;5;34m1024\u001b[0m, \u001b[38;5;34m3\u001b[0m)        │           \u001b[38;5;34m387\u001b[0m │\n",
       "│ (\u001b[38;5;33mTimeDistributed\u001b[0m)               │                        │               │\n",
       "└─────────────────────────────────┴────────────────────────┴───────────────┘\n"
      ]
     },
     "metadata": {},
     "output_type": "display_data"
    },
    {
     "data": {
      "text/html": [
       "<pre style=\"white-space:pre;overflow-x:auto;line-height:normal;font-family:Menlo,'DejaVu Sans Mono',consolas,'Courier New',monospace\"><span style=\"font-weight: bold\"> Total params: </span><span style=\"color: #00af00; text-decoration-color: #00af00\">199,555</span> (779.51 KB)\n",
       "</pre>\n"
      ],
      "text/plain": [
       "\u001b[1m Total params: \u001b[0m\u001b[38;5;34m199,555\u001b[0m (779.51 KB)\n"
      ]
     },
     "metadata": {},
     "output_type": "display_data"
    },
    {
     "data": {
      "text/html": [
       "<pre style=\"white-space:pre;overflow-x:auto;line-height:normal;font-family:Menlo,'DejaVu Sans Mono',consolas,'Courier New',monospace\"><span style=\"font-weight: bold\"> Trainable params: </span><span style=\"color: #00af00; text-decoration-color: #00af00\">199,555</span> (779.51 KB)\n",
       "</pre>\n"
      ],
      "text/plain": [
       "\u001b[1m Trainable params: \u001b[0m\u001b[38;5;34m199,555\u001b[0m (779.51 KB)\n"
      ]
     },
     "metadata": {},
     "output_type": "display_data"
    },
    {
     "data": {
      "text/html": [
       "<pre style=\"white-space:pre;overflow-x:auto;line-height:normal;font-family:Menlo,'DejaVu Sans Mono',consolas,'Courier New',monospace\"><span style=\"font-weight: bold\"> Non-trainable params: </span><span style=\"color: #00af00; text-decoration-color: #00af00\">0</span> (0.00 B)\n",
       "</pre>\n"
      ],
      "text/plain": [
       "\u001b[1m Non-trainable params: \u001b[0m\u001b[38;5;34m0\u001b[0m (0.00 B)\n"
      ]
     },
     "metadata": {},
     "output_type": "display_data"
    },
    {
     "name": "stdout",
     "output_type": "stream",
     "text": [
      "Epoch 1/50\n"
     ]
    }
   ],
   "source": [
    "\n",
    "def build_autoencoder():\n",
    "    input_img = tf.keras.Input(shape=(1024, 3)) \n",
    "\n",
    "    encoded = LSTM(128, activation='relu')(input_img)\n",
    "    encoded = RepeatVector(1024)(encoded) \n",
    "\n",
    "    decoded = LSTM(128, activation='relu', return_sequences=True)(encoded)\n",
    "    decoded = TimeDistributed(Dense(3))(decoded) \n",
    "\n",
    "    autoencoder = Model(input_img, decoded)\n",
    "    return autoencoder\n",
    "\n",
    "autoencoder = build_autoencoder()\n",
    "autoencoder.compile(optimizer='adam', loss='mse')  \n",
    "\n",
    "autoencoder.summary()\n",
    "\n",
    "history = autoencoder.fit(x_train, x_train,  \n",
    "                          epochs=50, \n",
    "                          batch_size=256, \n",
    "                          validation_data=(x_test, x_test))\n"
   ]
  },
  {
   "cell_type": "code",
   "execution_count": 3,
   "id": "3557f988-9daf-44ac-a9e1-fccc8b824ac9",
   "metadata": {},
   "outputs": [
    {
     "ename": "NameError",
     "evalue": "name 'autoencoder' is not defined",
     "output_type": "error",
     "traceback": [
      "\u001b[0;31m---------------------------------------------------------------------------\u001b[0m",
      "\u001b[0;31mNameError\u001b[0m                                 Traceback (most recent call last)",
      "Cell \u001b[0;32mIn[3], line 1\u001b[0m\n\u001b[0;32m----> 1\u001b[0m history \u001b[38;5;241m=\u001b[39m \u001b[43mautoencoder\u001b[49m\u001b[38;5;241m.\u001b[39mfit(x_train, x_train,  \n\u001b[1;32m      2\u001b[0m                           epochs\u001b[38;5;241m=\u001b[39m\u001b[38;5;241m5\u001b[39m, \n\u001b[1;32m      3\u001b[0m                           batch_size\u001b[38;5;241m=\u001b[39m\u001b[38;5;241m256\u001b[39m, \n\u001b[1;32m      4\u001b[0m                           validation_data\u001b[38;5;241m=\u001b[39m(x_test, x_test),\n\u001b[1;32m      5\u001b[0m                           verbose\u001b[38;5;241m=\u001b[39m\u001b[38;5;241m2\u001b[39m)\n",
      "\u001b[0;31mNameError\u001b[0m: name 'autoencoder' is not defined"
     ]
    }
   ],
   "source": [
    "history = autoencoder.fit(x_train, x_train,  \n",
    "                          epochs=5, \n",
    "                          batch_size=256, \n",
    "                          validation_data=(x_test, x_test),\n",
    "                          verbose=2)\n"
   ]
  },
  {
   "cell_type": "code",
   "execution_count": null,
   "id": "dc5bae4c-dbb6-49d5-b274-da8bc649bca9",
   "metadata": {},
   "outputs": [
    {
     "name": "stdout",
     "output_type": "stream",
     "text": [
      "Original x_train shape: (50000, 32, 32, 3)\n",
      "Original x_test shape: (10000, 32, 32, 3)\n",
      "x_train shape after normalization: (50000, 32, 32, 3)\n",
      "x_test shape after normalization: (10000, 32, 32, 3)\n",
      "x_train shape after reshaping: (50000, 1024, 3)\n",
      "x_test shape after reshaping: (10000, 1024, 3)\n"
     ]
    },
    {
     "data": {
      "text/html": [
       "<pre style=\"white-space:pre;overflow-x:auto;line-height:normal;font-family:Menlo,'DejaVu Sans Mono',consolas,'Courier New',monospace\"><span style=\"font-weight: bold\">Model: \"functional\"</span>\n",
       "</pre>\n"
      ],
      "text/plain": [
       "\u001b[1mModel: \"functional\"\u001b[0m\n"
      ]
     },
     "metadata": {},
     "output_type": "display_data"
    },
    {
     "data": {
      "text/html": [
       "<pre style=\"white-space:pre;overflow-x:auto;line-height:normal;font-family:Menlo,'DejaVu Sans Mono',consolas,'Courier New',monospace\">┏━━━━━━━━━━━━━━━━━━━━━━━━━━━━━━━━━┳━━━━━━━━━━━━━━━━━━━━━━━━┳━━━━━━━━━━━━━━━┓\n",
       "┃<span style=\"font-weight: bold\"> Layer (type)                    </span>┃<span style=\"font-weight: bold\"> Output Shape           </span>┃<span style=\"font-weight: bold\">       Param # </span>┃\n",
       "┡━━━━━━━━━━━━━━━━━━━━━━━━━━━━━━━━━╇━━━━━━━━━━━━━━━━━━━━━━━━╇━━━━━━━━━━━━━━━┩\n",
       "│ input_layer (<span style=\"color: #0087ff; text-decoration-color: #0087ff\">InputLayer</span>)        │ (<span style=\"color: #00d7ff; text-decoration-color: #00d7ff\">None</span>, <span style=\"color: #00af00; text-decoration-color: #00af00\">1024</span>, <span style=\"color: #00af00; text-decoration-color: #00af00\">3</span>)        │             <span style=\"color: #00af00; text-decoration-color: #00af00\">0</span> │\n",
       "├─────────────────────────────────┼────────────────────────┼───────────────┤\n",
       "│ lstm (<span style=\"color: #0087ff; text-decoration-color: #0087ff\">LSTM</span>)                     │ (<span style=\"color: #00d7ff; text-decoration-color: #00d7ff\">None</span>, <span style=\"color: #00af00; text-decoration-color: #00af00\">128</span>)            │        <span style=\"color: #00af00; text-decoration-color: #00af00\">67,584</span> │\n",
       "├─────────────────────────────────┼────────────────────────┼───────────────┤\n",
       "│ repeat_vector (<span style=\"color: #0087ff; text-decoration-color: #0087ff\">RepeatVector</span>)    │ (<span style=\"color: #00d7ff; text-decoration-color: #00d7ff\">None</span>, <span style=\"color: #00af00; text-decoration-color: #00af00\">1024</span>, <span style=\"color: #00af00; text-decoration-color: #00af00\">128</span>)      │             <span style=\"color: #00af00; text-decoration-color: #00af00\">0</span> │\n",
       "├─────────────────────────────────┼────────────────────────┼───────────────┤\n",
       "│ lstm_1 (<span style=\"color: #0087ff; text-decoration-color: #0087ff\">LSTM</span>)                   │ (<span style=\"color: #00d7ff; text-decoration-color: #00d7ff\">None</span>, <span style=\"color: #00af00; text-decoration-color: #00af00\">1024</span>, <span style=\"color: #00af00; text-decoration-color: #00af00\">128</span>)      │       <span style=\"color: #00af00; text-decoration-color: #00af00\">131,584</span> │\n",
       "├─────────────────────────────────┼────────────────────────┼───────────────┤\n",
       "│ time_distributed                │ (<span style=\"color: #00d7ff; text-decoration-color: #00d7ff\">None</span>, <span style=\"color: #00af00; text-decoration-color: #00af00\">1024</span>, <span style=\"color: #00af00; text-decoration-color: #00af00\">3</span>)        │           <span style=\"color: #00af00; text-decoration-color: #00af00\">387</span> │\n",
       "│ (<span style=\"color: #0087ff; text-decoration-color: #0087ff\">TimeDistributed</span>)               │                        │               │\n",
       "└─────────────────────────────────┴────────────────────────┴───────────────┘\n",
       "</pre>\n"
      ],
      "text/plain": [
       "┏━━━━━━━━━━━━━━━━━━━━━━━━━━━━━━━━━┳━━━━━━━━━━━━━━━━━━━━━━━━┳━━━━━━━━━━━━━━━┓\n",
       "┃\u001b[1m \u001b[0m\u001b[1mLayer (type)                   \u001b[0m\u001b[1m \u001b[0m┃\u001b[1m \u001b[0m\u001b[1mOutput Shape          \u001b[0m\u001b[1m \u001b[0m┃\u001b[1m \u001b[0m\u001b[1m      Param #\u001b[0m\u001b[1m \u001b[0m┃\n",
       "┡━━━━━━━━━━━━━━━━━━━━━━━━━━━━━━━━━╇━━━━━━━━━━━━━━━━━━━━━━━━╇━━━━━━━━━━━━━━━┩\n",
       "│ input_layer (\u001b[38;5;33mInputLayer\u001b[0m)        │ (\u001b[38;5;45mNone\u001b[0m, \u001b[38;5;34m1024\u001b[0m, \u001b[38;5;34m3\u001b[0m)        │             \u001b[38;5;34m0\u001b[0m │\n",
       "├─────────────────────────────────┼────────────────────────┼───────────────┤\n",
       "│ lstm (\u001b[38;5;33mLSTM\u001b[0m)                     │ (\u001b[38;5;45mNone\u001b[0m, \u001b[38;5;34m128\u001b[0m)            │        \u001b[38;5;34m67,584\u001b[0m │\n",
       "├─────────────────────────────────┼────────────────────────┼───────────────┤\n",
       "│ repeat_vector (\u001b[38;5;33mRepeatVector\u001b[0m)    │ (\u001b[38;5;45mNone\u001b[0m, \u001b[38;5;34m1024\u001b[0m, \u001b[38;5;34m128\u001b[0m)      │             \u001b[38;5;34m0\u001b[0m │\n",
       "├─────────────────────────────────┼────────────────────────┼───────────────┤\n",
       "│ lstm_1 (\u001b[38;5;33mLSTM\u001b[0m)                   │ (\u001b[38;5;45mNone\u001b[0m, \u001b[38;5;34m1024\u001b[0m, \u001b[38;5;34m128\u001b[0m)      │       \u001b[38;5;34m131,584\u001b[0m │\n",
       "├─────────────────────────────────┼────────────────────────┼───────────────┤\n",
       "│ time_distributed                │ (\u001b[38;5;45mNone\u001b[0m, \u001b[38;5;34m1024\u001b[0m, \u001b[38;5;34m3\u001b[0m)        │           \u001b[38;5;34m387\u001b[0m │\n",
       "│ (\u001b[38;5;33mTimeDistributed\u001b[0m)               │                        │               │\n",
       "└─────────────────────────────────┴────────────────────────┴───────────────┘\n"
      ]
     },
     "metadata": {},
     "output_type": "display_data"
    },
    {
     "data": {
      "text/html": [
       "<pre style=\"white-space:pre;overflow-x:auto;line-height:normal;font-family:Menlo,'DejaVu Sans Mono',consolas,'Courier New',monospace\"><span style=\"font-weight: bold\"> Total params: </span><span style=\"color: #00af00; text-decoration-color: #00af00\">199,555</span> (779.51 KB)\n",
       "</pre>\n"
      ],
      "text/plain": [
       "\u001b[1m Total params: \u001b[0m\u001b[38;5;34m199,555\u001b[0m (779.51 KB)\n"
      ]
     },
     "metadata": {},
     "output_type": "display_data"
    },
    {
     "data": {
      "text/html": [
       "<pre style=\"white-space:pre;overflow-x:auto;line-height:normal;font-family:Menlo,'DejaVu Sans Mono',consolas,'Courier New',monospace\"><span style=\"font-weight: bold\"> Trainable params: </span><span style=\"color: #00af00; text-decoration-color: #00af00\">199,555</span> (779.51 KB)\n",
       "</pre>\n"
      ],
      "text/plain": [
       "\u001b[1m Trainable params: \u001b[0m\u001b[38;5;34m199,555\u001b[0m (779.51 KB)\n"
      ]
     },
     "metadata": {},
     "output_type": "display_data"
    },
    {
     "data": {
      "text/html": [
       "<pre style=\"white-space:pre;overflow-x:auto;line-height:normal;font-family:Menlo,'DejaVu Sans Mono',consolas,'Courier New',monospace\"><span style=\"font-weight: bold\"> Non-trainable params: </span><span style=\"color: #00af00; text-decoration-color: #00af00\">0</span> (0.00 B)\n",
       "</pre>\n"
      ],
      "text/plain": [
       "\u001b[1m Non-trainable params: \u001b[0m\u001b[38;5;34m0\u001b[0m (0.00 B)\n"
      ]
     },
     "metadata": {},
     "output_type": "display_data"
    },
    {
     "name": "stdout",
     "output_type": "stream",
     "text": [
      "Epoch 1/5\n"
     ]
    }
   ],
   "source": [
    "import numpy as np\n",
    "import tensorflow as tf\n",
    "from tensorflow.keras.datasets import cifar10\n",
    "from tensorflow.keras.models import Model\n",
    "from tensorflow.keras.layers import LSTM, RepeatVector, TimeDistributed, Dense\n",
    "import matplotlib.pyplot as plt\n",
    "\n",
    "(x_train, _), (x_test, _) = cifar10.load_data()\n",
    "\n",
    "print(f\"Original x_train shape: {x_train.shape}\")\n",
    "print(f\"Original x_test shape: {x_test.shape}\")\n",
    "\n",
    "x_train = x_train.astype('float32') / 255.\n",
    "x_test = x_test.astype('float32') / 255.\n",
    "\n",
    "print(f\"x_train shape after normalization: {x_train.shape}\")\n",
    "print(f\"x_test shape after normalization: {x_test.shape}\")\n",
    "\n",
    "x_train = x_train.reshape((x_train.shape[0], -1, 3))  \n",
    "x_test = x_test.reshape((x_test.shape[0], -1, 3))\n",
    "\n",
    "print(f\"x_train shape after reshaping: {x_train.shape}\")\n",
    "print(f\"x_test shape after reshaping: {x_test.shape}\")\n",
    "\n",
    "def build_autoencoder():\n",
    "    input_img = tf.keras.Input(shape=(1024, 3))\n",
    "    encoded = LSTM(128, activation='relu')(input_img)\n",
    "    encoded = RepeatVector(1024)(encoded)\n",
    "    decoded = LSTM(128, activation='relu', return_sequences=True)(encoded)\n",
    "    decoded = TimeDistributed(Dense(3))(decoded)\n",
    "    autoencoder = Model(input_img, decoded)\n",
    "    return autoencoder\n",
    "\n",
    "autoencoder = build_autoencoder()\n",
    "autoencoder.compile(optimizer='adam', loss='mse')\n",
    "autoencoder.summary()\n",
    "\n",
    "history = autoencoder.fit(x_train, x_train,  \n",
    "                          epochs=5, \n",
    "                          batch_size=256, \n",
    "                          validation_data=(x_test, x_test), \n",
    "                          verbose=2)\n",
    "\n",
    "def plot_training_history(history):\n",
    "    plt.plot(history.history['loss'], label='Training Loss')\n",
    "    plt.plot(history.history['val_loss'], label='Validation Loss')\n",
    "    plt.title('Training and Validation Loss')\n",
    "    plt.xlabel('Epochs')\n",
    "    plt.ylabel('Loss')\n",
    "    plt.legend()\n",
    "    plt.show()\n",
    "\n",
    "plot_training_history(history)\n",
    "\n",
    "reconstructed_images = autoencoder.predict(x_test)\n",
    "\n",
    "def visualize_reconstructions(original, reconstructed, num_images=5):\n",
    "    plt.figure(figsize=(10, 4))\n",
    "    for i in range(num_images):\n",
    "        plt.subplot(2, num_images, i + 1)\n",
    "        plt.imshow(original[i].reshape(32, 32, 3))\n",
    "        plt.axis('off')\n",
    "        plt.subplot(2, num_images, i + 1 + num_images)\n",
    "        plt.imshow(reconstructed[i].reshape(32, 32, 3))\n",
    "        plt.axis('off')\n",
    "    plt.show()\n",
    "\n",
    "visualize_reconstructions(x_test, reconstructed_images)\n"
   ]
  },
  {
   "cell_type": "code",
   "execution_count": 1,
   "id": "ad429396-cbde-483b-9283-68cfe3f8570f",
   "metadata": {},
   "outputs": [
    {
     "ename": "NameError",
     "evalue": "name 'autoencoder' is not defined",
     "output_type": "error",
     "traceback": [
      "\u001b[0;31m---------------------------------------------------------------------------\u001b[0m",
      "\u001b[0;31mNameError\u001b[0m                                 Traceback (most recent call last)",
      "Cell \u001b[0;32mIn[1], line 1\u001b[0m\n\u001b[0;32m----> 1\u001b[0m reconstructed_images \u001b[38;5;241m=\u001b[39m \u001b[43mautoencoder\u001b[49m\u001b[38;5;241m.\u001b[39mpredict(x_test)\n\u001b[1;32m      3\u001b[0m \u001b[38;5;28;01mdef\u001b[39;00m \u001b[38;5;21mvisualize_reconstructions\u001b[39m(original, reconstructed, num_images\u001b[38;5;241m=\u001b[39m\u001b[38;5;241m5\u001b[39m):\n\u001b[1;32m      4\u001b[0m     plt\u001b[38;5;241m.\u001b[39mfigure(figsize\u001b[38;5;241m=\u001b[39m(\u001b[38;5;241m10\u001b[39m, \u001b[38;5;241m4\u001b[39m))\n",
      "\u001b[0;31mNameError\u001b[0m: name 'autoencoder' is not defined"
     ]
    }
   ],
   "source": [
    "reconstructed_images = autoencoder.predict(x_test)\n",
    "\n",
    "def visualize_reconstructions(original, reconstructed, num_images=5):\n",
    "    plt.figure(figsize=(10, 4))\n",
    "    for i in range(num_images):\n",
    "        plt.subplot(2, num_images, i+1)\n",
    "        plt.imshow(original[i].reshape(32, 32, 3))\n",
    "        plt.axis('off')\n",
    "\n",
    "        plt.subplot(2, num_images, i+1+num_images)\n",
    "        plt.imshow(reconstructed[i].reshape(32, 32, 3)) \n",
    "        plt.axis('off')\n",
    "\n",
    "    plt.show()\n",
    "\n",
    "visualize_reconstructions(x_test, reconstructed_images)\n"
   ]
  },
  {
   "cell_type": "code",
   "execution_count": 1,
   "id": "e940fd33-3028-46e5-b4d7-28677b44ff93",
   "metadata": {},
   "outputs": [
    {
     "ename": "NameError",
     "evalue": "name 'x_train' is not defined",
     "output_type": "error",
     "traceback": [
      "\u001b[0;31m---------------------------------------------------------------------------\u001b[0m",
      "\u001b[0;31mNameError\u001b[0m                                 Traceback (most recent call last)",
      "Cell \u001b[0;32mIn[1], line 4\u001b[0m\n\u001b[1;32m      1\u001b[0m \u001b[38;5;28;01mdef\u001b[39;00m \u001b[38;5;21mblur_images\u001b[39m(images):\n\u001b[1;32m      2\u001b[0m     \u001b[38;5;28;01mreturn\u001b[39;00m images \n\u001b[0;32m----> 4\u001b[0m x_train_noisy \u001b[38;5;241m=\u001b[39m blur_images(\u001b[43mx_train\u001b[49m)\n\u001b[1;32m      5\u001b[0m x_test_noisy \u001b[38;5;241m=\u001b[39m blur_images(x_test)\n\u001b[1;32m      7\u001b[0m history \u001b[38;5;241m=\u001b[39m autoencoder\u001b[38;5;241m.\u001b[39mfit(x_train_noisy, x_train, \n\u001b[1;32m      8\u001b[0m                           epochs\u001b[38;5;241m=\u001b[39m\u001b[38;5;241m50\u001b[39m, \n\u001b[1;32m      9\u001b[0m                           batch_size\u001b[38;5;241m=\u001b[39m\u001b[38;5;241m256\u001b[39m, \n\u001b[1;32m     10\u001b[0m                           validation_data\u001b[38;5;241m=\u001b[39m(x_test_noisy, x_test))\n",
      "\u001b[0;31mNameError\u001b[0m: name 'x_train' is not defined"
     ]
    }
   ],
   "source": [
    "def blur_images(images):\n",
    "    return images \n",
    "\n",
    "x_train_noisy = blur_images(x_train)\n",
    "x_test_noisy = blur_images(x_test)\n",
    "\n",
    "history = autoencoder.fit(x_train_noisy, x_train, \n",
    "                          epochs=50, \n",
    "                          batch_size=256, \n",
    "                          validation_data=(x_test_noisy, x_test))\n"
   ]
  },
  {
   "cell_type": "code",
   "execution_count": 1,
   "id": "ef76e28f-3611-4ad6-a6fa-f4a2a57064b1",
   "metadata": {},
   "outputs": [
    {
     "name": "stdout",
     "output_type": "stream",
     "text": [
      "Epoch 1/2\n",
      "\u001b[1m32/32\u001b[0m \u001b[32m━━━━━━━━━━━━━━━━━━━━\u001b[0m\u001b[37m\u001b[0m \u001b[1m301s\u001b[0m 9s/step - loss: nan - val_loss: nan\n",
      "Epoch 2/2\n",
      "\u001b[1m32/32\u001b[0m \u001b[32m━━━━━━━━━━━━━━━━━━━━\u001b[0m\u001b[37m\u001b[0m \u001b[1m336s\u001b[0m 11s/step - loss: nan - val_loss: nan\n",
      "\u001b[1m7/7\u001b[0m \u001b[32m━━━━━━━━━━━━━━━━━━━━\u001b[0m\u001b[37m\u001b[0m \u001b[1m11s\u001b[0m 1s/step \n"
     ]
    },
    {
     "name": "stderr",
     "output_type": "stream",
     "text": [
      "/Users/preci/myenv/lib/python3.12/site-packages/sklearn/metrics/_classification.py:1531: UndefinedMetricWarning: Precision is ill-defined and being set to 0.0 in labels with no predicted samples. Use `zero_division` parameter to control this behavior.\n",
      "  _warn_prf(average, modifier, f\"{metric.capitalize()} is\", len(result))\n"
     ]
    },
    {
     "name": "stdout",
     "output_type": "stream",
     "text": [
      "Accuracy: 0.0\n",
      "Precision: 0.0\n",
      "Recall: 0.0\n"
     ]
    },
    {
     "ename": "ValueError",
     "evalue": "win_size exceeds image extent. Either ensure that your images are at least 7x7; or pass win_size explicitly in the function call, with an odd value less than or equal to the smaller side of your images. If your images are multichannel (with color channels), set channel_axis to the axis number corresponding to the channels.",
     "output_type": "error",
     "traceback": [
      "\u001b[0;31m---------------------------------------------------------------------------\u001b[0m",
      "\u001b[0;31mValueError\u001b[0m                                Traceback (most recent call last)",
      "Cell \u001b[0;32mIn[1], line 93\u001b[0m\n\u001b[1;32m     90\u001b[0m     display_images(x_test_subset, x_test_noisy_subset, reconstructed)\n\u001b[1;32m     92\u001b[0m \u001b[38;5;28;01mif\u001b[39;00m \u001b[38;5;18m__name__\u001b[39m \u001b[38;5;241m==\u001b[39m \u001b[38;5;124m\"\u001b[39m\u001b[38;5;124m__main__\u001b[39m\u001b[38;5;124m\"\u001b[39m:\n\u001b[0;32m---> 93\u001b[0m     \u001b[43mmain\u001b[49m\u001b[43m(\u001b[49m\u001b[43m)\u001b[49m\n",
      "Cell \u001b[0;32mIn[1], line 87\u001b[0m, in \u001b[0;36mmain\u001b[0;34m()\u001b[0m\n\u001b[1;32m     83\u001b[0m autoencoder, history \u001b[38;5;241m=\u001b[39m train_autoencoder(autoencoder, x_train_subset, x_train_noisy_subset, x_test_subset, x_test_noisy_subset)\n\u001b[1;32m     85\u001b[0m reconstructed \u001b[38;5;241m=\u001b[39m evaluate_model(autoencoder, x_test_subset, x_test_noisy_subset)\n\u001b[0;32m---> 87\u001b[0m ssim_value \u001b[38;5;241m=\u001b[39m \u001b[43mcalculate_ssim\u001b[49m\u001b[43m(\u001b[49m\u001b[43mx_test_subset\u001b[49m\u001b[43m,\u001b[49m\u001b[43m \u001b[49m\u001b[43mreconstructed\u001b[49m\u001b[43m)\u001b[49m\n\u001b[1;32m     88\u001b[0m \u001b[38;5;28mprint\u001b[39m(\u001b[38;5;124mf\u001b[39m\u001b[38;5;124m\"\u001b[39m\u001b[38;5;124mSSIM: \u001b[39m\u001b[38;5;132;01m{\u001b[39;00mssim_value\u001b[38;5;132;01m}\u001b[39;00m\u001b[38;5;124m\"\u001b[39m)\n\u001b[1;32m     90\u001b[0m display_images(x_test_subset, x_test_noisy_subset, reconstructed)\n",
      "Cell \u001b[0;32mIn[1], line 56\u001b[0m, in \u001b[0;36mcalculate_ssim\u001b[0;34m(original, reconstructed)\u001b[0m\n\u001b[1;32m     54\u001b[0m total_ssim \u001b[38;5;241m=\u001b[39m \u001b[38;5;241m0\u001b[39m\n\u001b[1;32m     55\u001b[0m \u001b[38;5;28;01mfor\u001b[39;00m i \u001b[38;5;129;01min\u001b[39;00m \u001b[38;5;28mrange\u001b[39m(\u001b[38;5;28mlen\u001b[39m(original)):\n\u001b[0;32m---> 56\u001b[0m     total_ssim \u001b[38;5;241m+\u001b[39m\u001b[38;5;241m=\u001b[39m \u001b[43mssim\u001b[49m\u001b[43m(\u001b[49m\u001b[43moriginal\u001b[49m\u001b[43m[\u001b[49m\u001b[43mi\u001b[49m\u001b[43m]\u001b[49m\u001b[43m,\u001b[49m\u001b[43m \u001b[49m\u001b[43mreconstructed\u001b[49m\u001b[43m[\u001b[49m\u001b[43mi\u001b[49m\u001b[43m]\u001b[49m\u001b[43m,\u001b[49m\u001b[43m \u001b[49m\u001b[43mmultichannel\u001b[49m\u001b[38;5;241;43m=\u001b[39;49m\u001b[38;5;28;43;01mTrue\u001b[39;49;00m\u001b[43m)\u001b[49m\n\u001b[1;32m     57\u001b[0m \u001b[38;5;28;01mreturn\u001b[39;00m total_ssim \u001b[38;5;241m/\u001b[39m \u001b[38;5;28mlen\u001b[39m(original)\n",
      "File \u001b[0;32m~/myenv/lib/python3.12/site-packages/skimage/metrics/_structural_similarity.py:186\u001b[0m, in \u001b[0;36mstructural_similarity\u001b[0;34m(im1, im2, win_size, gradient, data_range, channel_axis, gaussian_weights, full, **kwargs)\u001b[0m\n\u001b[1;32m    183\u001b[0m         win_size \u001b[38;5;241m=\u001b[39m \u001b[38;5;241m7\u001b[39m  \u001b[38;5;66;03m# backwards compatibility\u001b[39;00m\n\u001b[1;32m    185\u001b[0m \u001b[38;5;28;01mif\u001b[39;00m np\u001b[38;5;241m.\u001b[39many((np\u001b[38;5;241m.\u001b[39masarray(im1\u001b[38;5;241m.\u001b[39mshape) \u001b[38;5;241m-\u001b[39m win_size) \u001b[38;5;241m<\u001b[39m \u001b[38;5;241m0\u001b[39m):\n\u001b[0;32m--> 186\u001b[0m     \u001b[38;5;28;01mraise\u001b[39;00m \u001b[38;5;167;01mValueError\u001b[39;00m(\n\u001b[1;32m    187\u001b[0m         \u001b[38;5;124m'\u001b[39m\u001b[38;5;124mwin_size exceeds image extent. \u001b[39m\u001b[38;5;124m'\u001b[39m\n\u001b[1;32m    188\u001b[0m         \u001b[38;5;124m'\u001b[39m\u001b[38;5;124mEither ensure that your images are \u001b[39m\u001b[38;5;124m'\u001b[39m\n\u001b[1;32m    189\u001b[0m         \u001b[38;5;124m'\u001b[39m\u001b[38;5;124mat least 7x7; or pass win_size explicitly \u001b[39m\u001b[38;5;124m'\u001b[39m\n\u001b[1;32m    190\u001b[0m         \u001b[38;5;124m'\u001b[39m\u001b[38;5;124min the function call, with an odd value \u001b[39m\u001b[38;5;124m'\u001b[39m\n\u001b[1;32m    191\u001b[0m         \u001b[38;5;124m'\u001b[39m\u001b[38;5;124mless than or equal to the smaller side of your \u001b[39m\u001b[38;5;124m'\u001b[39m\n\u001b[1;32m    192\u001b[0m         \u001b[38;5;124m'\u001b[39m\u001b[38;5;124mimages. If your images are multichannel \u001b[39m\u001b[38;5;124m'\u001b[39m\n\u001b[1;32m    193\u001b[0m         \u001b[38;5;124m'\u001b[39m\u001b[38;5;124m(with color channels), set channel_axis to \u001b[39m\u001b[38;5;124m'\u001b[39m\n\u001b[1;32m    194\u001b[0m         \u001b[38;5;124m'\u001b[39m\u001b[38;5;124mthe axis number corresponding to the channels.\u001b[39m\u001b[38;5;124m'\u001b[39m\n\u001b[1;32m    195\u001b[0m     )\n\u001b[1;32m    197\u001b[0m \u001b[38;5;28;01mif\u001b[39;00m \u001b[38;5;129;01mnot\u001b[39;00m (win_size \u001b[38;5;241m%\u001b[39m \u001b[38;5;241m2\u001b[39m \u001b[38;5;241m==\u001b[39m \u001b[38;5;241m1\u001b[39m):\n\u001b[1;32m    198\u001b[0m     \u001b[38;5;28;01mraise\u001b[39;00m \u001b[38;5;167;01mValueError\u001b[39;00m(\u001b[38;5;124m'\u001b[39m\u001b[38;5;124mWindow size must be odd.\u001b[39m\u001b[38;5;124m'\u001b[39m)\n",
      "\u001b[0;31mValueError\u001b[0m: win_size exceeds image extent. Either ensure that your images are at least 7x7; or pass win_size explicitly in the function call, with an odd value less than or equal to the smaller side of your images. If your images are multichannel (with color channels), set channel_axis to the axis number corresponding to the channels."
     ]
    }
   ],
   "source": [
    "import numpy as np\n",
    "import tensorflow as tf\n",
    "from tensorflow.keras.datasets import cifar10\n",
    "from tensorflow.keras.models import Model\n",
    "from tensorflow.keras.layers import Input, LSTM, RepeatVector, TimeDistributed, Dense\n",
    "from sklearn.metrics import accuracy_score, precision_score, recall_score\n",
    "from skimage.metrics import structural_similarity as ssim\n",
    "import matplotlib.pyplot as plt\n",
    "\n",
    "def load_and_preprocess_data():\n",
    "    (x_train, _), (x_test, _) = cifar10.load_data()\n",
    "    x_train = x_train.astype('float32') / 255.\n",
    "    x_test = x_test.astype('float32') / 255.\n",
    "    x_train = x_train.reshape((x_train.shape[0], 1024, 3))\n",
    "    x_test = x_test.reshape((x_test.shape[0], 1024, 3))\n",
    "    return x_train, x_test\n",
    "\n",
    "def blur_images(images):\n",
    "    return images\n",
    "\n",
    "def build_autoencoder():\n",
    "    input_img = Input(shape=(1024, 3))\n",
    "    encoded = LSTM(128, activation='relu')(input_img)\n",
    "    encoded = RepeatVector(1024)(encoded)\n",
    "    decoded = LSTM(128, activation='relu', return_sequences=True)(encoded)\n",
    "    decoded = TimeDistributed(Dense(3))(decoded)\n",
    "    autoencoder = Model(input_img, decoded)\n",
    "    return autoencoder\n",
    "\n",
    "def train_autoencoder(autoencoder, x_train, x_train_noisy, x_test, x_test_noisy):\n",
    "    autoencoder.compile(optimizer='adam', loss='mse')\n",
    "    history = autoencoder.fit(x_train_noisy, x_train, \n",
    "                              epochs=2,  # Reduced to 2 epochs for quicker testing\n",
    "                              batch_size=32,  # Reduced batch size to 32\n",
    "                              validation_data=(x_test_noisy, x_test))\n",
    "    return autoencoder, history\n",
    "\n",
    "def evaluate_model(autoencoder, x_test, x_test_noisy):\n",
    "    reconstructed = autoencoder.predict(x_test_noisy)\n",
    "    x_test_flat = x_test.reshape((-1, 1024 * 3))\n",
    "    reconstructed_flat = reconstructed.reshape((-1, 1024 * 3))\n",
    "    threshold = 0.5\n",
    "    x_test_binary = (x_test_flat > threshold).astype(int)\n",
    "    reconstructed_binary = (reconstructed_flat > threshold).astype(int)\n",
    "    accuracy = accuracy_score(x_test_binary, reconstructed_binary)\n",
    "    precision = precision_score(x_test_binary, reconstructed_binary, average='macro')\n",
    "    recall = recall_score(x_test_binary, reconstructed_binary, average='macro')\n",
    "    print(f\"Accuracy: {accuracy}\")\n",
    "    print(f\"Precision: {precision}\")\n",
    "    print(f\"Recall: {recall}\")\n",
    "    return reconstructed\n",
    "\n",
    "def calculate_ssim(original, reconstructed):\n",
    "    total_ssim = 0\n",
    "    for i in range(len(original)):\n",
    "        total_ssim += ssim(original[i], reconstructed[i], multichannel=True)\n",
    "    return total_ssim / len(original)\n",
    "\n",
    "def display_images(original, noisy, reconstructed, num_images=5):\n",
    "    plt.figure(figsize=(10, 3))\n",
    "    for i in range(num_images):\n",
    "        plt.subplot(3, num_images, i + 1)\n",
    "        plt.imshow(original[i].reshape(32, 32, 3))\n",
    "        plt.axis('off')\n",
    "        plt.subplot(3, num_images, num_images + i + 1)\n",
    "        plt.imshow(noisy[i].reshape(32, 32, 3))\n",
    "        plt.axis('off')\n",
    "        plt.subplot(3, num_images, 2 * num_images + i + 1)\n",
    "        plt.imshow(reconstructed[i].reshape(32, 32, 3))\n",
    "        plt.axis('off')\n",
    "    plt.show()\n",
    "\n",
    "def main():\n",
    "    x_train, x_test = load_and_preprocess_data()\n",
    "\n",
    "    # Use only a subset of the data for quicker testing\n",
    "    x_train_subset = x_train[:1000]  \n",
    "    x_train_noisy_subset = blur_images(x_train_subset)\n",
    "    x_test_subset = x_test[:200]  \n",
    "    x_test_noisy_subset = blur_images(x_test_subset)\n",
    "\n",
    "    autoencoder = build_autoencoder()\n",
    "    autoencoder, history = train_autoencoder(autoencoder, x_train_subset, x_train_noisy_subset, x_test_subset, x_test_noisy_subset)\n",
    "\n",
    "    reconstructed = evaluate_model(autoencoder, x_test_subset, x_test_noisy_subset)\n",
    "\n",
    "    ssim_value = calculate_ssim(x_test_subset, reconstructed)\n",
    "    print(f\"SSIM: {ssim_value}\")\n",
    "\n",
    "    display_images(x_test_subset, x_test_noisy_subset, reconstructed)\n",
    "\n",
    "if __name__ == \"__main__\":\n",
    "    main()\n"
   ]
  },
  {
   "cell_type": "code",
   "execution_count": null,
   "id": "9b22a229-92a6-4333-8cce-b5514d19e803",
   "metadata": {},
   "outputs": [
    {
     "name": "stdout",
     "output_type": "stream",
     "text": [
      "Checking for NaN values in the training data:\n",
      "NaNs in x_train: False\n",
      "NaNs in x_test: False\n",
      "Epoch 1/2\n"
     ]
    }
   ],
   "source": [
    "import numpy as np\n",
    "import tensorflow as tf\n",
    "from tensorflow.keras.datasets import cifar10\n",
    "from tensorflow.keras.models import Model\n",
    "from tensorflow.keras.layers import Input, LSTM, RepeatVector, TimeDistributed, Dense\n",
    "from sklearn.metrics import accuracy_score, precision_score, recall_score\n",
    "from skimage.metrics import structural_similarity as ssim\n",
    "import matplotlib.pyplot as plt\n",
    "from tensorflow.keras.optimizers import Adam\n",
    "\n",
    "def load_and_preprocess_data():\n",
    "    (x_train, _), (x_test, _) = cifar10.load_data()\n",
    "    x_train = x_train.astype('float32') / 255.\n",
    "    x_test = x_test.astype('float32') / 255.\n",
    "    x_train = x_train.reshape((x_train.shape[0], 1024, 3))\n",
    "    x_test = x_test.reshape((x_test.shape[0], 1024, 3))\n",
    "    return x_train, x_test\n",
    "\n",
    "def blur_images(images):\n",
    "    noise = np.random.normal(loc=0.0, scale=0.1, size=images.shape)\n",
    "    noisy_images = images + noise\n",
    "    return np.clip(noisy_images, 0., 1.)\n",
    "\n",
    "def build_autoencoder():\n",
    "    input_img = Input(shape=(1024, 3))\n",
    "    encoded = LSTM(128, activation='relu')(input_img)\n",
    "    encoded = RepeatVector(1024)(encoded)\n",
    "    decoded = LSTM(128, activation='relu', return_sequences=True)(encoded)\n",
    "    decoded = TimeDistributed(Dense(3))(decoded)\n",
    "    autoencoder = Model(input_img, decoded)\n",
    "    return autoencoder\n",
    "\n",
    "def train_autoencoder(autoencoder, x_train, x_train_noisy, x_test, x_test_noisy):\n",
    "    optimizer = Adam(learning_rate=0.0001, clipnorm=1.0)\n",
    "    autoencoder.compile(optimizer=optimizer, loss='mse')\n",
    "    history = autoencoder.fit(x_train_noisy, x_train, \n",
    "                              epochs=2,  # Reduced epochs for testing\n",
    "                              batch_size=32, \n",
    "                              validation_data=(x_test_noisy, x_test),\n",
    "                              verbose=2)\n",
    "    return autoencoder, history\n",
    "\n",
    "def evaluate_model(autoencoder, x_test, x_test_noisy):\n",
    "    reconstructed = autoencoder.predict(x_test_noisy)\n",
    "    x_test_flat = x_test.reshape((-1, 1024 * 3))\n",
    "    reconstructed_flat = reconstructed.reshape((-1, 1024 * 3))\n",
    "    threshold = 0.5\n",
    "    x_test_binary = (x_test_flat > threshold).astype(int)\n",
    "    reconstructed_binary = (reconstructed_flat > threshold).astype(int)\n",
    "    accuracy = accuracy_score(x_test_binary, reconstructed_binary)\n",
    "    precision = precision_score(x_test_binary, reconstructed_binary, average='macro')\n",
    "    recall = recall_score(x_test_binary, reconstructed_binary, average='macro')\n",
    "    print(f\"Accuracy: {accuracy}\")\n",
    "    print(f\"Precision: {precision}\")\n",
    "    print(f\"Recall: {recall}\")\n",
    "    return reconstructed\n",
    "\n",
    "def calculate_ssim(original, reconstructed):\n",
    "    total_ssim = 0\n",
    "    for i in range(len(original)):\n",
    "        if original[i].shape != reconstructed[i].shape:\n",
    "            print(f\"Dimension mismatch: original {original[i].shape}, reconstructed {reconstructed[i].shape}\")\n",
    "        total_ssim += ssim(original[i], reconstructed[i], multichannel=True)\n",
    "    return total_ssim / len(original)\n",
    "\n",
    "def display_images(original, noisy, reconstructed, num_images=5):\n",
    "    plt.figure(figsize=(10, 3))\n",
    "    for i in range(num_images):\n",
    "        plt.subplot(3, num_images, i + 1)\n",
    "        plt.imshow(original[i].reshape(32, 32, 3))\n",
    "    ok    plt.axis('off')\n",
    "        plt.subplot(3, num_images, num_images + i + 1)\n",
    "        plt.imshow(noisy[i].reshape(32, 32, 3))\n",
    "        plt.axis('off')\n",
    "        plt.subplot(3, num_images, 2 * num_images + i + 1)\n",
    "        plt.imshow(reconstructed[i].reshape(32, 32, 3))\n",
    "        plt.axis('off')\n",
    "    plt.show()\n",
    "\n",
    "def main():\n",
    "    x_train, x_test = load_and_preprocess_data()\n",
    "    print(\"Checking for NaN values in the training data:\")\n",
    "    print(\"NaNs in x_train:\", np.isnan(x_train).any())\n",
    "    print(\"NaNs in x_test:\", np.isnan(x_test).any())\n",
    "    \n",
    "    x_train_noisy = blur_images(x_train)\n",
    "    x_test_noisy = blur_images(x_test)\n",
    "    \n",
    "    autoencoder = build_autoencoder()\n",
    "    autoencoder, history = train_autoencoder(autoencoder, x_train, x_train_noisy, x_test, x_test_noisy)\n",
    "\n",
    "    reconstructed = evaluate_model(autoencoder, x_test, x_test_noisy)\n",
    "    \n",
    "    ssim_value = calculate_ssim(x_test, reconstructed)\n",
    "    print(f\"SSIM: {ssim_value}\")\n",
    "\n",
    "    display_images(x_test, x_test_noisy, reconstructed)\n",
    "\n",
    "if __name__ == \"__main__\":\n",
    "    main()\n"
   ]
  },
  {
   "cell_type": "code",
   "execution_count": 1,
   "id": "4231c805-65d8-4201-9259-1c7feea5071f",
   "metadata": {},
   "outputs": [
    {
     "name": "stdout",
     "output_type": "stream",
     "text": [
      "x_train shape: (50000, 1024, 3)\n",
      "x_test shape: (10000, 1024, 3)\n",
      "x_train_noisy shape: (50000, 1024, 3)\n",
      "x_test_noisy shape: (10000, 1024, 3)\n"
     ]
    },
    {
     "data": {
      "text/html": [
       "<pre style=\"white-space:pre;overflow-x:auto;line-height:normal;font-family:Menlo,'DejaVu Sans Mono',consolas,'Courier New',monospace\"><span style=\"font-weight: bold\">Model: \"functional\"</span>\n",
       "</pre>\n"
      ],
      "text/plain": [
       "\u001b[1mModel: \"functional\"\u001b[0m\n"
      ]
     },
     "metadata": {},
     "output_type": "display_data"
    },
    {
     "data": {
      "text/html": [
       "<pre style=\"white-space:pre;overflow-x:auto;line-height:normal;font-family:Menlo,'DejaVu Sans Mono',consolas,'Courier New',monospace\">┏━━━━━━━━━━━━━━━━━━━━━━━━━━━━━━━━━┳━━━━━━━━━━━━━━━━━━━━━━━━┳━━━━━━━━━━━━━━━┓\n",
       "┃<span style=\"font-weight: bold\"> Layer (type)                    </span>┃<span style=\"font-weight: bold\"> Output Shape           </span>┃<span style=\"font-weight: bold\">       Param # </span>┃\n",
       "┡━━━━━━━━━━━━━━━━━━━━━━━━━━━━━━━━━╇━━━━━━━━━━━━━━━━━━━━━━━━╇━━━━━━━━━━━━━━━┩\n",
       "│ input_layer (<span style=\"color: #0087ff; text-decoration-color: #0087ff\">InputLayer</span>)        │ (<span style=\"color: #00d7ff; text-decoration-color: #00d7ff\">None</span>, <span style=\"color: #00af00; text-decoration-color: #00af00\">1024</span>, <span style=\"color: #00af00; text-decoration-color: #00af00\">3</span>)        │             <span style=\"color: #00af00; text-decoration-color: #00af00\">0</span> │\n",
       "├─────────────────────────────────┼────────────────────────┼───────────────┤\n",
       "│ lstm (<span style=\"color: #0087ff; text-decoration-color: #0087ff\">LSTM</span>)                     │ (<span style=\"color: #00d7ff; text-decoration-color: #00d7ff\">None</span>, <span style=\"color: #00af00; text-decoration-color: #00af00\">128</span>)            │        <span style=\"color: #00af00; text-decoration-color: #00af00\">67,584</span> │\n",
       "├─────────────────────────────────┼────────────────────────┼───────────────┤\n",
       "│ repeat_vector (<span style=\"color: #0087ff; text-decoration-color: #0087ff\">RepeatVector</span>)    │ (<span style=\"color: #00d7ff; text-decoration-color: #00d7ff\">None</span>, <span style=\"color: #00af00; text-decoration-color: #00af00\">1024</span>, <span style=\"color: #00af00; text-decoration-color: #00af00\">128</span>)      │             <span style=\"color: #00af00; text-decoration-color: #00af00\">0</span> │\n",
       "├─────────────────────────────────┼────────────────────────┼───────────────┤\n",
       "│ lstm_1 (<span style=\"color: #0087ff; text-decoration-color: #0087ff\">LSTM</span>)                   │ (<span style=\"color: #00d7ff; text-decoration-color: #00d7ff\">None</span>, <span style=\"color: #00af00; text-decoration-color: #00af00\">1024</span>, <span style=\"color: #00af00; text-decoration-color: #00af00\">128</span>)      │       <span style=\"color: #00af00; text-decoration-color: #00af00\">131,584</span> │\n",
       "├─────────────────────────────────┼────────────────────────┼───────────────┤\n",
       "│ time_distributed                │ (<span style=\"color: #00d7ff; text-decoration-color: #00d7ff\">None</span>, <span style=\"color: #00af00; text-decoration-color: #00af00\">1024</span>, <span style=\"color: #00af00; text-decoration-color: #00af00\">3</span>)        │           <span style=\"color: #00af00; text-decoration-color: #00af00\">387</span> │\n",
       "│ (<span style=\"color: #0087ff; text-decoration-color: #0087ff\">TimeDistributed</span>)               │                        │               │\n",
       "└─────────────────────────────────┴────────────────────────┴───────────────┘\n",
       "</pre>\n"
      ],
      "text/plain": [
       "┏━━━━━━━━━━━━━━━━━━━━━━━━━━━━━━━━━┳━━━━━━━━━━━━━━━━━━━━━━━━┳━━━━━━━━━━━━━━━┓\n",
       "┃\u001b[1m \u001b[0m\u001b[1mLayer (type)                   \u001b[0m\u001b[1m \u001b[0m┃\u001b[1m \u001b[0m\u001b[1mOutput Shape          \u001b[0m\u001b[1m \u001b[0m┃\u001b[1m \u001b[0m\u001b[1m      Param #\u001b[0m\u001b[1m \u001b[0m┃\n",
       "┡━━━━━━━━━━━━━━━━━━━━━━━━━━━━━━━━━╇━━━━━━━━━━━━━━━━━━━━━━━━╇━━━━━━━━━━━━━━━┩\n",
       "│ input_layer (\u001b[38;5;33mInputLayer\u001b[0m)        │ (\u001b[38;5;45mNone\u001b[0m, \u001b[38;5;34m1024\u001b[0m, \u001b[38;5;34m3\u001b[0m)        │             \u001b[38;5;34m0\u001b[0m │\n",
       "├─────────────────────────────────┼────────────────────────┼───────────────┤\n",
       "│ lstm (\u001b[38;5;33mLSTM\u001b[0m)                     │ (\u001b[38;5;45mNone\u001b[0m, \u001b[38;5;34m128\u001b[0m)            │        \u001b[38;5;34m67,584\u001b[0m │\n",
       "├─────────────────────────────────┼────────────────────────┼───────────────┤\n",
       "│ repeat_vector (\u001b[38;5;33mRepeatVector\u001b[0m)    │ (\u001b[38;5;45mNone\u001b[0m, \u001b[38;5;34m1024\u001b[0m, \u001b[38;5;34m128\u001b[0m)      │             \u001b[38;5;34m0\u001b[0m │\n",
       "├─────────────────────────────────┼────────────────────────┼───────────────┤\n",
       "│ lstm_1 (\u001b[38;5;33mLSTM\u001b[0m)                   │ (\u001b[38;5;45mNone\u001b[0m, \u001b[38;5;34m1024\u001b[0m, \u001b[38;5;34m128\u001b[0m)      │       \u001b[38;5;34m131,584\u001b[0m │\n",
       "├─────────────────────────────────┼────────────────────────┼───────────────┤\n",
       "│ time_distributed                │ (\u001b[38;5;45mNone\u001b[0m, \u001b[38;5;34m1024\u001b[0m, \u001b[38;5;34m3\u001b[0m)        │           \u001b[38;5;34m387\u001b[0m │\n",
       "│ (\u001b[38;5;33mTimeDistributed\u001b[0m)               │                        │               │\n",
       "└─────────────────────────────────┴────────────────────────┴───────────────┘\n"
      ]
     },
     "metadata": {},
     "output_type": "display_data"
    },
    {
     "data": {
      "text/html": [
       "<pre style=\"white-space:pre;overflow-x:auto;line-height:normal;font-family:Menlo,'DejaVu Sans Mono',consolas,'Courier New',monospace\"><span style=\"font-weight: bold\"> Total params: </span><span style=\"color: #00af00; text-decoration-color: #00af00\">199,555</span> (779.51 KB)\n",
       "</pre>\n"
      ],
      "text/plain": [
       "\u001b[1m Total params: \u001b[0m\u001b[38;5;34m199,555\u001b[0m (779.51 KB)\n"
      ]
     },
     "metadata": {},
     "output_type": "display_data"
    },
    {
     "data": {
      "text/html": [
       "<pre style=\"white-space:pre;overflow-x:auto;line-height:normal;font-family:Menlo,'DejaVu Sans Mono',consolas,'Courier New',monospace\"><span style=\"font-weight: bold\"> Trainable params: </span><span style=\"color: #00af00; text-decoration-color: #00af00\">199,555</span> (779.51 KB)\n",
       "</pre>\n"
      ],
      "text/plain": [
       "\u001b[1m Trainable params: \u001b[0m\u001b[38;5;34m199,555\u001b[0m (779.51 KB)\n"
      ]
     },
     "metadata": {},
     "output_type": "display_data"
    },
    {
     "data": {
      "text/html": [
       "<pre style=\"white-space:pre;overflow-x:auto;line-height:normal;font-family:Menlo,'DejaVu Sans Mono',consolas,'Courier New',monospace\"><span style=\"font-weight: bold\"> Non-trainable params: </span><span style=\"color: #00af00; text-decoration-color: #00af00\">0</span> (0.00 B)\n",
       "</pre>\n"
      ],
      "text/plain": [
       "\u001b[1m Non-trainable params: \u001b[0m\u001b[38;5;34m0\u001b[0m (0.00 B)\n"
      ]
     },
     "metadata": {},
     "output_type": "display_data"
    }
   ],
   "source": [
    "import numpy as np\n",
    "import tensorflow as tf\n",
    "from tensorflow.keras.datasets import cifar10\n",
    "from tensorflow.keras.models import Model\n",
    "from tensorflow.keras.layers import Input, LSTM, RepeatVector, TimeDistributed, Dense\n",
    "from sklearn.metrics import accuracy_score, precision_score, recall_score\n",
    "from skimage.metrics import structural_similarity as ssim\n",
    "import matplotlib.pyplot as plt\n",
    "from tensorflow.keras.optimizers import Adam\n",
    "from tensorflow.keras.callbacks import EarlyStopping\n",
    "\n",
    "def load_and_preprocess_data():\n",
    "    (x_train, _), (x_test, _) = cifar10.load_data()\n",
    "    x_train = x_train.astype('float32') / 255.\n",
    "    x_test = x_test.astype('float32') / 255.\n",
    "    x_train = x_train.reshape((x_train.shape[0], 1024, 3))\n",
    "    x_test = x_test.reshape((x_test.shape[0], 1024, 3))\n",
    "    return x_train, x_test\n",
    "\n",
    "def blur_images(images):\n",
    "    noise = np.random.normal(loc=0.0, scale=0.1, size=images.shape)\n",
    "    noisy_images = images + noise\n",
    "    return np.clip(noisy_images, 0., 1.)\n",
    "\n",
    "def build_autoencoder():\n",
    "    input_img = Input(shape=(1024, 3))\n",
    "    encoded = LSTM(128, activation='relu')(input_img)\n",
    "    encoded = RepeatVector(1024)(encoded)\n",
    "    decoded = LSTM(128, activation='relu', return_sequences=True)(encoded)\n",
    "    decoded = TimeDistributed(Dense(3))(decoded)\n",
    "    autoencoder = Model(input_img, decoded)\n",
    "    return autoencoder\n",
    "\n",
    "def main():\n",
    "    x_train, x_test = load_and_preprocess_data()\n",
    "    \n",
    "    print(f\"x_train shape: {x_train.shape}\")\n",
    "    print(f\"x_test shape: {x_test.shape}\")\n",
    "    \n",
    "    x_train_noisy = blur_images(x_train)\n",
    "    x_test_noisy = blur_images(x_test)\n",
    "\n",
    "    print(f\"x_train_noisy shape: {x_train_noisy.shape}\")\n",
    "    print(f\"x_test_noisy shape: {x_test_noisy.shape}\")\n",
    "\n",
    "    autoencoder = build_autoencoder()\n",
    "\n",
    "    autoencoder.summary()  \n",
    "\n",
    "if __name__ == \"__main__\":\n",
    "    main()\n"
   ]
  },
  {
   "cell_type": "code",
   "execution_count": 2,
   "id": "36aba95e-cee1-49ee-a789-88f86601c1fa",
   "metadata": {},
   "outputs": [
    {
     "name": "stdout",
     "output_type": "stream",
     "text": [
      "x_train shape: (50000, 1024, 3)\n",
      "x_test shape: (10000, 1024, 3)\n"
     ]
    }
   ],
   "source": [
    "x_train, x_test = load_and_preprocess_data()\n",
    "print(f\"x_train shape: {x_train.shape}\")\n",
    "print(f\"x_test shape: {x_test.shape}\")\n"
   ]
  },
  {
   "cell_type": "code",
   "execution_count": 1,
   "id": "417a1ba6-f6ec-4e8c-904f-23060dae0541",
   "metadata": {},
   "outputs": [
    {
     "name": "stdout",
     "output_type": "stream",
     "text": [
      "Epoch 1/5\n",
      "4/4 - 49s - 12s/step - loss: 0.2660 - val_loss: 0.2840\n",
      "Epoch 2/5\n",
      "4/4 - 24s - 6s/step - loss: 0.2568 - val_loss: 0.2764\n",
      "Epoch 3/5\n",
      "4/4 - 25s - 6s/step - loss: 0.2481 - val_loss: 0.2694\n",
      "Epoch 4/5\n",
      "4/4 - 26s - 6s/step - loss: 0.2400 - val_loss: 0.2626\n",
      "Epoch 5/5\n",
      "4/4 - 25s - 6s/step - loss: 0.2322 - val_loss: 0.2557\n"
     ]
    },
    {
     "data": {
      "text/html": [
       "<pre style=\"white-space:pre;overflow-x:auto;line-height:normal;font-family:Menlo,'DejaVu Sans Mono',consolas,'Courier New',monospace\"><span style=\"font-weight: bold\">Model: \"functional\"</span>\n",
       "</pre>\n"
      ],
      "text/plain": [
       "\u001b[1mModel: \"functional\"\u001b[0m\n"
      ]
     },
     "metadata": {},
     "output_type": "display_data"
    },
    {
     "data": {
      "text/html": [
       "<pre style=\"white-space:pre;overflow-x:auto;line-height:normal;font-family:Menlo,'DejaVu Sans Mono',consolas,'Courier New',monospace\">┏━━━━━━━━━━━━━━━━━━━━━━━━━━━━━━━━━┳━━━━━━━━━━━━━━━━━━━━━━━━┳━━━━━━━━━━━━━━━┓\n",
       "┃<span style=\"font-weight: bold\"> Layer (type)                    </span>┃<span style=\"font-weight: bold\"> Output Shape           </span>┃<span style=\"font-weight: bold\">       Param # </span>┃\n",
       "┡━━━━━━━━━━━━━━━━━━━━━━━━━━━━━━━━━╇━━━━━━━━━━━━━━━━━━━━━━━━╇━━━━━━━━━━━━━━━┩\n",
       "│ input_layer (<span style=\"color: #0087ff; text-decoration-color: #0087ff\">InputLayer</span>)        │ (<span style=\"color: #00d7ff; text-decoration-color: #00d7ff\">None</span>, <span style=\"color: #00af00; text-decoration-color: #00af00\">1024</span>, <span style=\"color: #00af00; text-decoration-color: #00af00\">3</span>)        │             <span style=\"color: #00af00; text-decoration-color: #00af00\">0</span> │\n",
       "├─────────────────────────────────┼────────────────────────┼───────────────┤\n",
       "│ lstm (<span style=\"color: #0087ff; text-decoration-color: #0087ff\">LSTM</span>)                     │ (<span style=\"color: #00d7ff; text-decoration-color: #00d7ff\">None</span>, <span style=\"color: #00af00; text-decoration-color: #00af00\">128</span>)            │        <span style=\"color: #00af00; text-decoration-color: #00af00\">67,584</span> │\n",
       "├─────────────────────────────────┼────────────────────────┼───────────────┤\n",
       "│ repeat_vector (<span style=\"color: #0087ff; text-decoration-color: #0087ff\">RepeatVector</span>)    │ (<span style=\"color: #00d7ff; text-decoration-color: #00d7ff\">None</span>, <span style=\"color: #00af00; text-decoration-color: #00af00\">1024</span>, <span style=\"color: #00af00; text-decoration-color: #00af00\">128</span>)      │             <span style=\"color: #00af00; text-decoration-color: #00af00\">0</span> │\n",
       "├─────────────────────────────────┼────────────────────────┼───────────────┤\n",
       "│ lstm_1 (<span style=\"color: #0087ff; text-decoration-color: #0087ff\">LSTM</span>)                   │ (<span style=\"color: #00d7ff; text-decoration-color: #00d7ff\">None</span>, <span style=\"color: #00af00; text-decoration-color: #00af00\">1024</span>, <span style=\"color: #00af00; text-decoration-color: #00af00\">128</span>)      │       <span style=\"color: #00af00; text-decoration-color: #00af00\">131,584</span> │\n",
       "├─────────────────────────────────┼────────────────────────┼───────────────┤\n",
       "│ time_distributed                │ (<span style=\"color: #00d7ff; text-decoration-color: #00d7ff\">None</span>, <span style=\"color: #00af00; text-decoration-color: #00af00\">1024</span>, <span style=\"color: #00af00; text-decoration-color: #00af00\">3</span>)        │           <span style=\"color: #00af00; text-decoration-color: #00af00\">387</span> │\n",
       "│ (<span style=\"color: #0087ff; text-decoration-color: #0087ff\">TimeDistributed</span>)               │                        │               │\n",
       "└─────────────────────────────────┴────────────────────────┴───────────────┘\n",
       "</pre>\n"
      ],
      "text/plain": [
       "┏━━━━━━━━━━━━━━━━━━━━━━━━━━━━━━━━━┳━━━━━━━━━━━━━━━━━━━━━━━━┳━━━━━━━━━━━━━━━┓\n",
       "┃\u001b[1m \u001b[0m\u001b[1mLayer (type)                   \u001b[0m\u001b[1m \u001b[0m┃\u001b[1m \u001b[0m\u001b[1mOutput Shape          \u001b[0m\u001b[1m \u001b[0m┃\u001b[1m \u001b[0m\u001b[1m      Param #\u001b[0m\u001b[1m \u001b[0m┃\n",
       "┡━━━━━━━━━━━━━━━━━━━━━━━━━━━━━━━━━╇━━━━━━━━━━━━━━━━━━━━━━━━╇━━━━━━━━━━━━━━━┩\n",
       "│ input_layer (\u001b[38;5;33mInputLayer\u001b[0m)        │ (\u001b[38;5;45mNone\u001b[0m, \u001b[38;5;34m1024\u001b[0m, \u001b[38;5;34m3\u001b[0m)        │             \u001b[38;5;34m0\u001b[0m │\n",
       "├─────────────────────────────────┼────────────────────────┼───────────────┤\n",
       "│ lstm (\u001b[38;5;33mLSTM\u001b[0m)                     │ (\u001b[38;5;45mNone\u001b[0m, \u001b[38;5;34m128\u001b[0m)            │        \u001b[38;5;34m67,584\u001b[0m │\n",
       "├─────────────────────────────────┼────────────────────────┼───────────────┤\n",
       "│ repeat_vector (\u001b[38;5;33mRepeatVector\u001b[0m)    │ (\u001b[38;5;45mNone\u001b[0m, \u001b[38;5;34m1024\u001b[0m, \u001b[38;5;34m128\u001b[0m)      │             \u001b[38;5;34m0\u001b[0m │\n",
       "├─────────────────────────────────┼────────────────────────┼───────────────┤\n",
       "│ lstm_1 (\u001b[38;5;33mLSTM\u001b[0m)                   │ (\u001b[38;5;45mNone\u001b[0m, \u001b[38;5;34m1024\u001b[0m, \u001b[38;5;34m128\u001b[0m)      │       \u001b[38;5;34m131,584\u001b[0m │\n",
       "├─────────────────────────────────┼────────────────────────┼───────────────┤\n",
       "│ time_distributed                │ (\u001b[38;5;45mNone\u001b[0m, \u001b[38;5;34m1024\u001b[0m, \u001b[38;5;34m3\u001b[0m)        │           \u001b[38;5;34m387\u001b[0m │\n",
       "│ (\u001b[38;5;33mTimeDistributed\u001b[0m)               │                        │               │\n",
       "└─────────────────────────────────┴────────────────────────┴───────────────┘\n"
      ]
     },
     "metadata": {},
     "output_type": "display_data"
    },
    {
     "data": {
      "text/html": [
       "<pre style=\"white-space:pre;overflow-x:auto;line-height:normal;font-family:Menlo,'DejaVu Sans Mono',consolas,'Courier New',monospace\"><span style=\"font-weight: bold\"> Total params: </span><span style=\"color: #00af00; text-decoration-color: #00af00\">598,667</span> (2.28 MB)\n",
       "</pre>\n"
      ],
      "text/plain": [
       "\u001b[1m Total params: \u001b[0m\u001b[38;5;34m598,667\u001b[0m (2.28 MB)\n"
      ]
     },
     "metadata": {},
     "output_type": "display_data"
    },
    {
     "data": {
      "text/html": [
       "<pre style=\"white-space:pre;overflow-x:auto;line-height:normal;font-family:Menlo,'DejaVu Sans Mono',consolas,'Courier New',monospace\"><span style=\"font-weight: bold\"> Trainable params: </span><span style=\"color: #00af00; text-decoration-color: #00af00\">199,555</span> (779.51 KB)\n",
       "</pre>\n"
      ],
      "text/plain": [
       "\u001b[1m Trainable params: \u001b[0m\u001b[38;5;34m199,555\u001b[0m (779.51 KB)\n"
      ]
     },
     "metadata": {},
     "output_type": "display_data"
    },
    {
     "data": {
      "text/html": [
       "<pre style=\"white-space:pre;overflow-x:auto;line-height:normal;font-family:Menlo,'DejaVu Sans Mono',consolas,'Courier New',monospace\"><span style=\"font-weight: bold\"> Non-trainable params: </span><span style=\"color: #00af00; text-decoration-color: #00af00\">0</span> (0.00 B)\n",
       "</pre>\n"
      ],
      "text/plain": [
       "\u001b[1m Non-trainable params: \u001b[0m\u001b[38;5;34m0\u001b[0m (0.00 B)\n"
      ]
     },
     "metadata": {},
     "output_type": "display_data"
    },
    {
     "data": {
      "text/html": [
       "<pre style=\"white-space:pre;overflow-x:auto;line-height:normal;font-family:Menlo,'DejaVu Sans Mono',consolas,'Courier New',monospace\"><span style=\"font-weight: bold\"> Optimizer params: </span><span style=\"color: #00af00; text-decoration-color: #00af00\">399,112</span> (1.52 MB)\n",
       "</pre>\n"
      ],
      "text/plain": [
       "\u001b[1m Optimizer params: \u001b[0m\u001b[38;5;34m399,112\u001b[0m (1.52 MB)\n"
      ]
     },
     "metadata": {},
     "output_type": "display_data"
    }
   ],
   "source": [
    "import numpy as np\n",
    "import tensorflow as tf\n",
    "from tensorflow.keras.datasets import cifar10\n",
    "from tensorflow.keras.models import Model\n",
    "from tensorflow.keras.layers import Input, LSTM, RepeatVector, TimeDistributed, Dense\n",
    "from tensorflow.keras.optimizers import Adam\n",
    "from tensorflow.keras.callbacks import EarlyStopping\n",
    "\n",
    "def load_and_preprocess_data():\n",
    "    (x_train, _), (x_test, _) = cifar10.load_data()\n",
    "    x_train = x_train.astype('float32') / 255.0\n",
    "    x_test = x_test.astype('float32') / 255.0\n",
    "    x_train = x_train.reshape((x_train.shape[0], 1024, 3))\n",
    "    x_test = x_test.reshape((x_test.shape[0], 1024, 3))\n",
    "    return x_train, x_test\n",
    "\n",
    "def blur_images(images):\n",
    "    noise = np.random.normal(loc=0.0, scale=0.1, size=images.shape)\n",
    "    noisy_images = images + noise\n",
    "    return np.clip(noisy_images, 0., 1.)\n",
    "\n",
    "def build_autoencoder():\n",
    "    input_img = Input(shape=(1024, 3))\n",
    "    encoded = LSTM(128, activation='relu')(input_img)  \n",
    "    encoded = RepeatVector(1024)(encoded)\n",
    "    decoded = LSTM(128, activation='relu', return_sequences=True)(encoded)\n",
    "    decoded = TimeDistributed(Dense(3))(decoded)\n",
    "    autoencoder = Model(input_img, decoded)\n",
    "    return autoencoder\n",
    "\n",
    "def train_autoencoder(autoencoder, x_train, x_train_noisy, x_test, x_test_noisy):\n",
    "    optimizer = Adam(learning_rate=0.0001, clipnorm=1.0)\n",
    "    autoencoder.compile(optimizer=optimizer, loss='mse')\n",
    "    early_stopping = EarlyStopping(monitor='val_loss', patience=2, restore_best_weights=True)\n",
    "    \n",
    "    history = autoencoder.fit(x_train_noisy, x_train, \n",
    "                              epochs=5,\n",
    "                              batch_size=32,  \n",
    "                              validation_data=(x_test_noisy, x_test),\n",
    "                              callbacks=[early_stopping],\n",
    "                              verbose=2)\n",
    "    return autoencoder, history\n",
    "\n",
    "def main():\n",
    "    x_train, x_test = load_and_preprocess_data()\n",
    "    \n",
    "    x_train_subset = x_train[:100]  \n",
    "    x_train_noisy_subset = blur_images(x_train_subset)\n",
    "    x_test_subset = x_test[:20]  \n",
    "    x_test_noisy_subset = blur_images(x_test_subset)\n",
    "\n",
    "    autoencoder = build_autoencoder()\n",
    "    \n",
    "    autoencoder, history = train_autoencoder(autoencoder, x_train_subset, x_train_noisy_subset, x_test_subset, x_test_noisy_subset)\n",
    "\n",
    "    autoencoder.summary()\n",
    "\n",
    "if __name__ == \"__main__\":\n",
    "    main()\n"
   ]
  },
  {
   "cell_type": "code",
   "execution_count": 2,
   "id": "5a273484-9d1b-4937-b5bb-2aca25d4c545",
   "metadata": {},
   "outputs": [
    {
     "ename": "NameError",
     "evalue": "name 'evaluate_model' is not defined",
     "output_type": "error",
     "traceback": [
      "\u001b[0;31m---------------------------------------------------------------------------\u001b[0m",
      "\u001b[0;31mNameError\u001b[0m                                 Traceback (most recent call last)",
      "Cell \u001b[0;32mIn[2], line 1\u001b[0m\n\u001b[0;32m----> 1\u001b[0m reconstructed \u001b[38;5;241m=\u001b[39m \u001b[43mevaluate_model\u001b[49m(autoencoder, x_test_subset, x_test_noisy_subset)\n\u001b[1;32m      3\u001b[0m \u001b[38;5;28mprint\u001b[39m(\u001b[38;5;124mf\u001b[39m\u001b[38;5;124m\"\u001b[39m\u001b[38;5;124mSSIM: \u001b[39m\u001b[38;5;132;01m{\u001b[39;00mssim_value\u001b[38;5;132;01m}\u001b[39;00m\u001b[38;5;124m\"\u001b[39m)\n\u001b[1;32m      5\u001b[0m display_images(x_test_subset, x_test_noisy_subset, reconstructed)\n",
      "\u001b[0;31mNameError\u001b[0m: name 'evaluate_model' is not defined"
     ]
    }
   ],
   "source": [
    "reconstructed = evaluate_model(autoencoder, x_test_subset, x_test_noisy_subset)\n",
    "\n",
    "print(f\"SSIM: {ssim_value}\")\n",
    "\n",
    "display_images(x_test_subset, x_test_noisy_subset, reconstructed)\n"
   ]
  },
  {
   "cell_type": "code",
   "execution_count": 3,
   "id": "70533774-26c4-45f5-98f6-34cf54bef1ac",
   "metadata": {},
   "outputs": [
    {
     "name": "stdout",
     "output_type": "stream",
     "text": [
      "Epoch 1/5\n",
      "4/4 - 51s - 13s/step - loss: 0.2536 - val_loss: 0.2747\n",
      "Epoch 2/5\n",
      "4/4 - 26s - 7s/step - loss: 0.2437 - val_loss: 0.2658\n",
      "Epoch 3/5\n",
      "4/4 - 26s - 6s/step - loss: 0.2339 - val_loss: 0.2567\n",
      "Epoch 4/5\n",
      "4/4 - 26s - 6s/step - loss: 0.2239 - val_loss: 0.2474\n",
      "Epoch 5/5\n",
      "4/4 - 25s - 6s/step - loss: 0.2137 - val_loss: 0.2378\n",
      "\u001b[1m1/1\u001b[0m \u001b[32m━━━━━━━━━━━━━━━━━━━━\u001b[0m\u001b[37m\u001b[0m \u001b[1m4s\u001b[0m 4s/step\n",
      "Accuracy: 0.0\n",
      "Precision: 0.0\n",
      "Recall: 0.0\n"
     ]
    },
    {
     "name": "stderr",
     "output_type": "stream",
     "text": [
      "/Users/preci/myenv/lib/python3.12/site-packages/sklearn/metrics/_classification.py:1531: UndefinedMetricWarning: Precision is ill-defined and being set to 0.0 in labels with no predicted samples. Use `zero_division` parameter to control this behavior.\n",
      "  _warn_prf(average, modifier, f\"{metric.capitalize()} is\", len(result))\n"
     ]
    },
    {
     "ename": "ValueError",
     "evalue": "win_size exceeds image extent. Either ensure that your images are at least 7x7; or pass win_size explicitly in the function call, with an odd value less than or equal to the smaller side of your images. If your images are multichannel (with color channels), set channel_axis to the axis number corresponding to the channels.",
     "output_type": "error",
     "traceback": [
      "\u001b[0;31m---------------------------------------------------------------------------\u001b[0m",
      "\u001b[0;31mValueError\u001b[0m                                Traceback (most recent call last)",
      "Cell \u001b[0;32mIn[3], line 98\u001b[0m\n\u001b[1;32m     95\u001b[0m     display_images(x_test_subset, x_test_noisy_subset, reconstructed)\n\u001b[1;32m     97\u001b[0m \u001b[38;5;28;01mif\u001b[39;00m \u001b[38;5;18m__name__\u001b[39m \u001b[38;5;241m==\u001b[39m \u001b[38;5;124m\"\u001b[39m\u001b[38;5;124m__main__\u001b[39m\u001b[38;5;124m\"\u001b[39m:\n\u001b[0;32m---> 98\u001b[0m     \u001b[43mmain\u001b[49m\u001b[43m(\u001b[49m\u001b[43m)\u001b[49m\n",
      "Cell \u001b[0;32mIn[3], line 92\u001b[0m, in \u001b[0;36mmain\u001b[0;34m()\u001b[0m\n\u001b[1;32m     89\u001b[0m autoencoder, history \u001b[38;5;241m=\u001b[39m train_autoencoder(autoencoder, x_train_subset, x_train_noisy_subset, x_test_subset, x_test_noisy_subset)\n\u001b[1;32m     91\u001b[0m reconstructed \u001b[38;5;241m=\u001b[39m evaluate_model(autoencoder, x_test_subset, x_test_noisy_subset)\n\u001b[0;32m---> 92\u001b[0m ssim_value \u001b[38;5;241m=\u001b[39m \u001b[43mcalculate_ssim\u001b[49m\u001b[43m(\u001b[49m\u001b[43mx_test_subset\u001b[49m\u001b[43m,\u001b[49m\u001b[43m \u001b[49m\u001b[43mreconstructed\u001b[49m\u001b[43m)\u001b[49m\n\u001b[1;32m     93\u001b[0m \u001b[38;5;28mprint\u001b[39m(\u001b[38;5;124mf\u001b[39m\u001b[38;5;124m\"\u001b[39m\u001b[38;5;124mSSIM: \u001b[39m\u001b[38;5;132;01m{\u001b[39;00mssim_value\u001b[38;5;132;01m}\u001b[39;00m\u001b[38;5;124m\"\u001b[39m)\n\u001b[1;32m     95\u001b[0m display_images(x_test_subset, x_test_noisy_subset, reconstructed)\n",
      "Cell \u001b[0;32mIn[3], line 64\u001b[0m, in \u001b[0;36mcalculate_ssim\u001b[0;34m(original, reconstructed)\u001b[0m\n\u001b[1;32m     62\u001b[0m total_ssim \u001b[38;5;241m=\u001b[39m \u001b[38;5;241m0\u001b[39m\n\u001b[1;32m     63\u001b[0m \u001b[38;5;28;01mfor\u001b[39;00m i \u001b[38;5;129;01min\u001b[39;00m \u001b[38;5;28mrange\u001b[39m(\u001b[38;5;28mlen\u001b[39m(original)):\n\u001b[0;32m---> 64\u001b[0m     total_ssim \u001b[38;5;241m+\u001b[39m\u001b[38;5;241m=\u001b[39m \u001b[43mssim\u001b[49m\u001b[43m(\u001b[49m\u001b[43moriginal\u001b[49m\u001b[43m[\u001b[49m\u001b[43mi\u001b[49m\u001b[43m]\u001b[49m\u001b[43m,\u001b[49m\u001b[43m \u001b[49m\u001b[43mreconstructed\u001b[49m\u001b[43m[\u001b[49m\u001b[43mi\u001b[49m\u001b[43m]\u001b[49m\u001b[43m,\u001b[49m\u001b[43m \u001b[49m\u001b[43mmultichannel\u001b[49m\u001b[38;5;241;43m=\u001b[39;49m\u001b[38;5;28;43;01mTrue\u001b[39;49;00m\u001b[43m)\u001b[49m\n\u001b[1;32m     65\u001b[0m \u001b[38;5;28;01mreturn\u001b[39;00m total_ssim \u001b[38;5;241m/\u001b[39m \u001b[38;5;28mlen\u001b[39m(original)\n",
      "File \u001b[0;32m~/myenv/lib/python3.12/site-packages/skimage/metrics/_structural_similarity.py:186\u001b[0m, in \u001b[0;36mstructural_similarity\u001b[0;34m(im1, im2, win_size, gradient, data_range, channel_axis, gaussian_weights, full, **kwargs)\u001b[0m\n\u001b[1;32m    183\u001b[0m         win_size \u001b[38;5;241m=\u001b[39m \u001b[38;5;241m7\u001b[39m  \u001b[38;5;66;03m# backwards compatibility\u001b[39;00m\n\u001b[1;32m    185\u001b[0m \u001b[38;5;28;01mif\u001b[39;00m np\u001b[38;5;241m.\u001b[39many((np\u001b[38;5;241m.\u001b[39masarray(im1\u001b[38;5;241m.\u001b[39mshape) \u001b[38;5;241m-\u001b[39m win_size) \u001b[38;5;241m<\u001b[39m \u001b[38;5;241m0\u001b[39m):\n\u001b[0;32m--> 186\u001b[0m     \u001b[38;5;28;01mraise\u001b[39;00m \u001b[38;5;167;01mValueError\u001b[39;00m(\n\u001b[1;32m    187\u001b[0m         \u001b[38;5;124m'\u001b[39m\u001b[38;5;124mwin_size exceeds image extent. \u001b[39m\u001b[38;5;124m'\u001b[39m\n\u001b[1;32m    188\u001b[0m         \u001b[38;5;124m'\u001b[39m\u001b[38;5;124mEither ensure that your images are \u001b[39m\u001b[38;5;124m'\u001b[39m\n\u001b[1;32m    189\u001b[0m         \u001b[38;5;124m'\u001b[39m\u001b[38;5;124mat least 7x7; or pass win_size explicitly \u001b[39m\u001b[38;5;124m'\u001b[39m\n\u001b[1;32m    190\u001b[0m         \u001b[38;5;124m'\u001b[39m\u001b[38;5;124min the function call, with an odd value \u001b[39m\u001b[38;5;124m'\u001b[39m\n\u001b[1;32m    191\u001b[0m         \u001b[38;5;124m'\u001b[39m\u001b[38;5;124mless than or equal to the smaller side of your \u001b[39m\u001b[38;5;124m'\u001b[39m\n\u001b[1;32m    192\u001b[0m         \u001b[38;5;124m'\u001b[39m\u001b[38;5;124mimages. If your images are multichannel \u001b[39m\u001b[38;5;124m'\u001b[39m\n\u001b[1;32m    193\u001b[0m         \u001b[38;5;124m'\u001b[39m\u001b[38;5;124m(with color channels), set channel_axis to \u001b[39m\u001b[38;5;124m'\u001b[39m\n\u001b[1;32m    194\u001b[0m         \u001b[38;5;124m'\u001b[39m\u001b[38;5;124mthe axis number corresponding to the channels.\u001b[39m\u001b[38;5;124m'\u001b[39m\n\u001b[1;32m    195\u001b[0m     )\n\u001b[1;32m    197\u001b[0m \u001b[38;5;28;01mif\u001b[39;00m \u001b[38;5;129;01mnot\u001b[39;00m (win_size \u001b[38;5;241m%\u001b[39m \u001b[38;5;241m2\u001b[39m \u001b[38;5;241m==\u001b[39m \u001b[38;5;241m1\u001b[39m):\n\u001b[1;32m    198\u001b[0m     \u001b[38;5;28;01mraise\u001b[39;00m \u001b[38;5;167;01mValueError\u001b[39;00m(\u001b[38;5;124m'\u001b[39m\u001b[38;5;124mWindow size must be odd.\u001b[39m\u001b[38;5;124m'\u001b[39m)\n",
      "\u001b[0;31mValueError\u001b[0m: win_size exceeds image extent. Either ensure that your images are at least 7x7; or pass win_size explicitly in the function call, with an odd value less than or equal to the smaller side of your images. If your images are multichannel (with color channels), set channel_axis to the axis number corresponding to the channels."
     ]
    }
   ],
   "source": [
    "import numpy as np\n",
    "import tensorflow as tf\n",
    "from tensorflow.keras.datasets import cifar10\n",
    "from tensorflow.keras.models import Model\n",
    "from tensorflow.keras.layers import Input, LSTM, RepeatVector, TimeDistributed, Dense\n",
    "from tensorflow.keras.optimizers import Adam\n",
    "from tensorflow.keras.callbacks import EarlyStopping\n",
    "from sklearn.metrics import accuracy_score, precision_score, recall_score\n",
    "from skimage.metrics import structural_similarity as ssim\n",
    "import matplotlib.pyplot as plt\n",
    "\n",
    "def load_and_preprocess_data():\n",
    "    (x_train, _), (x_test, _) = cifar10.load_data()\n",
    "    x_train = x_train.astype('float32') / 255.0\n",
    "    x_test = x_test.astype('float32') / 255.0\n",
    "    x_train = x_train.reshape((x_train.shape[0], 1024, 3))\n",
    "    x_test = x_test.reshape((x_test.shape[0], 1024, 3))\n",
    "    return x_train, x_test\n",
    "\n",
    "def blur_images(images):\n",
    "    noise = np.random.normal(loc=0.0, scale=0.1, size=images.shape)\n",
    "    noisy_images = images + noise\n",
    "    return np.clip(noisy_images, 0., 1.)\n",
    "\n",
    "def build_autoencoder():\n",
    "    input_img = Input(shape=(1024, 3))\n",
    "    encoded = LSTM(128, activation='relu')(input_img)\n",
    "    encoded = RepeatVector(1024)(encoded)\n",
    "    decoded = LSTM(128, activation='relu', return_sequences=True)(encoded)\n",
    "    decoded = TimeDistributed(Dense(3))(decoded)\n",
    "    autoencoder = Model(input_img, decoded)\n",
    "    return autoencoder\n",
    "\n",
    "def train_autoencoder(autoencoder, x_train, x_train_noisy, x_test, x_test_noisy):\n",
    "    optimizer = Adam(learning_rate=0.0001, clipnorm=1.0)\n",
    "    autoencoder.compile(optimizer=optimizer, loss='mse')\n",
    "    early_stopping = EarlyStopping(monitor='val_loss', patience=2, restore_best_weights=True)\n",
    "    history = autoencoder.fit(x_train_noisy, x_train, \n",
    "                              epochs=5, \n",
    "                              batch_size=32, \n",
    "                              validation_data=(x_test_noisy, x_test),\n",
    "                              callbacks=[early_stopping],\n",
    "                              verbose=2)\n",
    "    return autoencoder, history\n",
    "\n",
    "def evaluate_model(autoencoder, x_test, x_test_noisy):\n",
    "    reconstructed = autoencoder.predict(x_test_noisy)\n",
    "    x_test_flat = x_test.reshape((-1, 1024 * 3))\n",
    "    reconstructed_flat = reconstructed.reshape((-1, 1024 * 3))\n",
    "    threshold = 0.5\n",
    "    x_test_binary = (x_test_flat > threshold).astype(int)\n",
    "    reconstructed_binary = (reconstructed_flat > threshold).astype(int)\n",
    "    accuracy = accuracy_score(x_test_binary, reconstructed_binary)\n",
    "    precision = precision_score(x_test_binary, reconstructed_binary, average='macro')\n",
    "    recall = recall_score(x_test_binary, reconstructed_binary, average='macro')\n",
    "    print(f\"Accuracy: {accuracy}\")\n",
    "    print(f\"Precision: {precision}\")\n",
    "    print(f\"Recall: {recall}\")\n",
    "    return reconstructed\n",
    "\n",
    "def calculate_ssim(original, reconstructed):\n",
    "    total_ssim = 0\n",
    "    for i in range(len(original)):\n",
    "        total_ssim += ssim(original[i], reconstructed[i], multichannel=True)\n",
    "    return total_ssim / len(original)\n",
    "\n",
    "def display_images(original, noisy, reconstructed, num_images=5):\n",
    "    plt.figure(figsize=(10, 3))\n",
    "    for i in range(num_images):\n",
    "        plt.subplot(3, num_images, i + 1)\n",
    "        plt.imshow(original[i].reshape(32, 32, 3))\n",
    "        plt.axis('off')\n",
    "        plt.subplot(3, num_images, num_images + i + 1)\n",
    "        plt.imshow(noisy[i].reshape(32, 32, 3))\n",
    "        plt.axis('off')\n",
    "        plt.subplot(3, num_images, 2 * num_images + i + 1)\n",
    "        plt.imshow(reconstructed[i].reshape(32, 32, 3))\n",
    "        plt.axis('off')\n",
    "    plt.show()\n",
    "\n",
    "def main():\n",
    "    x_train, x_test = load_and_preprocess_data()\n",
    "    x_train_subset = x_train[:100]\n",
    "    x_train_noisy_subset = blur_images(x_train_subset)\n",
    "    x_test_subset = x_test[:20]\n",
    "    x_test_noisy_subset = blur_images(x_test_subset)\n",
    "\n",
    "    autoencoder = build_autoencoder()\n",
    "    autoencoder, history = train_autoencoder(autoencoder, x_train_subset, x_train_noisy_subset, x_test_subset, x_test_noisy_subset)\n",
    "\n",
    "    reconstructed = evaluate_model(autoencoder, x_test_subset, x_test_noisy_subset)\n",
    "    ssim_value = calculate_ssim(x_test_subset, reconstructed)\n",
    "    print(f\"SSIM: {ssim_value}\")\n",
    "\n",
    "    display_images(x_test_subset, x_test_noisy_subset, reconstructed)\n",
    "\n",
    "if __name__ == \"__main__\":\n",
    "    main()\n"
   ]
  },
  {
   "cell_type": "code",
   "execution_count": 4,
   "id": "168da1bb-d55b-4884-a17b-e8c079e3f636",
   "metadata": {},
   "outputs": [
    {
     "ename": "NameError",
     "evalue": "name 'reconstructed' is not defined",
     "output_type": "error",
     "traceback": [
      "\u001b[0;31m---------------------------------------------------------------------------\u001b[0m",
      "\u001b[0;31mNameError\u001b[0m                                 Traceback (most recent call last)",
      "Cell \u001b[0;32mIn[4], line 1\u001b[0m\n\u001b[0;32m----> 1\u001b[0m \u001b[38;5;28mprint\u001b[39m(\u001b[38;5;124mf\u001b[39m\u001b[38;5;124m\"\u001b[39m\u001b[38;5;124mReconstructed image min: \u001b[39m\u001b[38;5;132;01m{\u001b[39;00mnp\u001b[38;5;241m.\u001b[39mmin(\u001b[43mreconstructed\u001b[49m)\u001b[38;5;132;01m}\u001b[39;00m\u001b[38;5;124m, max: \u001b[39m\u001b[38;5;132;01m{\u001b[39;00mnp\u001b[38;5;241m.\u001b[39mmax(reconstructed)\u001b[38;5;132;01m}\u001b[39;00m\u001b[38;5;124m\"\u001b[39m)\n",
      "\u001b[0;31mNameError\u001b[0m: name 'reconstructed' is not defined"
     ]
    }
   ],
   "source": [
    "print(f\"Reconstructed image min: {np.min(reconstructed)}, max: {np.max(reconstructed)}\")\n"
   ]
  },
  {
   "cell_type": "code",
   "execution_count": 6,
   "id": "7c846ba7-c3b9-4f61-afb3-5d8aebcc3d7c",
   "metadata": {},
   "outputs": [
    {
     "name": "stdout",
     "output_type": "stream",
     "text": [
      "x_train shape: (50000, 1024, 3)\n",
      "x_test shape: (10000, 1024, 3)\n"
     ]
    }
   ],
   "source": [
    "import numpy as np\n",
    "from tensorflow.keras.datasets import cifar10\n",
    "\n",
    "def load_and_preprocess_data():\n",
    "    (x_train, _), (x_test, _) = cifar10.load_data()\n",
    "    x_train = x_train.astype('float32') / 255.0\n",
    "    x_test = x_test.astype('float32') / 255.0\n",
    "    x_train = x_train.reshape((x_train.shape[0], 1024, 3))\n",
    "    x_test = x_test.reshape((x_test.shape[0], 1024, 3))\n",
    "    return x_train, x_test\n",
    "\n",
    "x_train, x_test = load_and_preprocess_data()\n",
    "print(f\"x_train shape: {x_train.shape}\")\n",
    "print(f\"x_test shape: {x_test.shape}\")\n"
   ]
  },
  {
   "cell_type": "code",
   "execution_count": 7,
   "id": "5c7a3eed-0314-498c-bb21-72cc8210a14a",
   "metadata": {},
   "outputs": [
    {
     "name": "stdout",
     "output_type": "stream",
     "text": [
      "x_train_noisy shape: (10, 1024, 3)\n"
     ]
    }
   ],
   "source": [
    "def blur_images(images):\n",
    "    noise = np.random.normal(loc=0.0, scale=0.1, size=images.shape)\n",
    "    noisy_images = images + noise\n",
    "    return np.clip(noisy_images, 0., 1.)\n",
    "\n",
    "x_train_noisy = blur_images(x_train[:10]) \n",
    "print(f\"x_train_noisy shape: {x_train_noisy.shape}\")\n"
   ]
  },
  {
   "cell_type": "code",
   "execution_count": 8,
   "id": "8e84cdeb-fedc-4a50-bfdd-45fccc167cfb",
   "metadata": {},
   "outputs": [
    {
     "data": {
      "text/html": [
       "<pre style=\"white-space:pre;overflow-x:auto;line-height:normal;font-family:Menlo,'DejaVu Sans Mono',consolas,'Courier New',monospace\"><span style=\"font-weight: bold\">Model: \"functional_1\"</span>\n",
       "</pre>\n"
      ],
      "text/plain": [
       "\u001b[1mModel: \"functional_1\"\u001b[0m\n"
      ]
     },
     "metadata": {},
     "output_type": "display_data"
    },
    {
     "data": {
      "text/html": [
       "<pre style=\"white-space:pre;overflow-x:auto;line-height:normal;font-family:Menlo,'DejaVu Sans Mono',consolas,'Courier New',monospace\">┏━━━━━━━━━━━━━━━━━━━━━━━━━━━━━━━━━┳━━━━━━━━━━━━━━━━━━━━━━━━┳━━━━━━━━━━━━━━━┓\n",
       "┃<span style=\"font-weight: bold\"> Layer (type)                    </span>┃<span style=\"font-weight: bold\"> Output Shape           </span>┃<span style=\"font-weight: bold\">       Param # </span>┃\n",
       "┡━━━━━━━━━━━━━━━━━━━━━━━━━━━━━━━━━╇━━━━━━━━━━━━━━━━━━━━━━━━╇━━━━━━━━━━━━━━━┩\n",
       "│ input_layer_1 (<span style=\"color: #0087ff; text-decoration-color: #0087ff\">InputLayer</span>)      │ (<span style=\"color: #00d7ff; text-decoration-color: #00d7ff\">None</span>, <span style=\"color: #00af00; text-decoration-color: #00af00\">1024</span>, <span style=\"color: #00af00; text-decoration-color: #00af00\">3</span>)        │             <span style=\"color: #00af00; text-decoration-color: #00af00\">0</span> │\n",
       "├─────────────────────────────────┼────────────────────────┼───────────────┤\n",
       "│ lstm_2 (<span style=\"color: #0087ff; text-decoration-color: #0087ff\">LSTM</span>)                   │ (<span style=\"color: #00d7ff; text-decoration-color: #00d7ff\">None</span>, <span style=\"color: #00af00; text-decoration-color: #00af00\">128</span>)            │        <span style=\"color: #00af00; text-decoration-color: #00af00\">67,584</span> │\n",
       "├─────────────────────────────────┼────────────────────────┼───────────────┤\n",
       "│ repeat_vector_1 (<span style=\"color: #0087ff; text-decoration-color: #0087ff\">RepeatVector</span>)  │ (<span style=\"color: #00d7ff; text-decoration-color: #00d7ff\">None</span>, <span style=\"color: #00af00; text-decoration-color: #00af00\">1024</span>, <span style=\"color: #00af00; text-decoration-color: #00af00\">128</span>)      │             <span style=\"color: #00af00; text-decoration-color: #00af00\">0</span> │\n",
       "├─────────────────────────────────┼────────────────────────┼───────────────┤\n",
       "│ lstm_3 (<span style=\"color: #0087ff; text-decoration-color: #0087ff\">LSTM</span>)                   │ (<span style=\"color: #00d7ff; text-decoration-color: #00d7ff\">None</span>, <span style=\"color: #00af00; text-decoration-color: #00af00\">1024</span>, <span style=\"color: #00af00; text-decoration-color: #00af00\">128</span>)      │       <span style=\"color: #00af00; text-decoration-color: #00af00\">131,584</span> │\n",
       "├─────────────────────────────────┼────────────────────────┼───────────────┤\n",
       "│ time_distributed_1              │ (<span style=\"color: #00d7ff; text-decoration-color: #00d7ff\">None</span>, <span style=\"color: #00af00; text-decoration-color: #00af00\">1024</span>, <span style=\"color: #00af00; text-decoration-color: #00af00\">3</span>)        │           <span style=\"color: #00af00; text-decoration-color: #00af00\">387</span> │\n",
       "│ (<span style=\"color: #0087ff; text-decoration-color: #0087ff\">TimeDistributed</span>)               │                        │               │\n",
       "└─────────────────────────────────┴────────────────────────┴───────────────┘\n",
       "</pre>\n"
      ],
      "text/plain": [
       "┏━━━━━━━━━━━━━━━━━━━━━━━━━━━━━━━━━┳━━━━━━━━━━━━━━━━━━━━━━━━┳━━━━━━━━━━━━━━━┓\n",
       "┃\u001b[1m \u001b[0m\u001b[1mLayer (type)                   \u001b[0m\u001b[1m \u001b[0m┃\u001b[1m \u001b[0m\u001b[1mOutput Shape          \u001b[0m\u001b[1m \u001b[0m┃\u001b[1m \u001b[0m\u001b[1m      Param #\u001b[0m\u001b[1m \u001b[0m┃\n",
       "┡━━━━━━━━━━━━━━━━━━━━━━━━━━━━━━━━━╇━━━━━━━━━━━━━━━━━━━━━━━━╇━━━━━━━━━━━━━━━┩\n",
       "│ input_layer_1 (\u001b[38;5;33mInputLayer\u001b[0m)      │ (\u001b[38;5;45mNone\u001b[0m, \u001b[38;5;34m1024\u001b[0m, \u001b[38;5;34m3\u001b[0m)        │             \u001b[38;5;34m0\u001b[0m │\n",
       "├─────────────────────────────────┼────────────────────────┼───────────────┤\n",
       "│ lstm_2 (\u001b[38;5;33mLSTM\u001b[0m)                   │ (\u001b[38;5;45mNone\u001b[0m, \u001b[38;5;34m128\u001b[0m)            │        \u001b[38;5;34m67,584\u001b[0m │\n",
       "├─────────────────────────────────┼────────────────────────┼───────────────┤\n",
       "│ repeat_vector_1 (\u001b[38;5;33mRepeatVector\u001b[0m)  │ (\u001b[38;5;45mNone\u001b[0m, \u001b[38;5;34m1024\u001b[0m, \u001b[38;5;34m128\u001b[0m)      │             \u001b[38;5;34m0\u001b[0m │\n",
       "├─────────────────────────────────┼────────────────────────┼───────────────┤\n",
       "│ lstm_3 (\u001b[38;5;33mLSTM\u001b[0m)                   │ (\u001b[38;5;45mNone\u001b[0m, \u001b[38;5;34m1024\u001b[0m, \u001b[38;5;34m128\u001b[0m)      │       \u001b[38;5;34m131,584\u001b[0m │\n",
       "├─────────────────────────────────┼────────────────────────┼───────────────┤\n",
       "│ time_distributed_1              │ (\u001b[38;5;45mNone\u001b[0m, \u001b[38;5;34m1024\u001b[0m, \u001b[38;5;34m3\u001b[0m)        │           \u001b[38;5;34m387\u001b[0m │\n",
       "│ (\u001b[38;5;33mTimeDistributed\u001b[0m)               │                        │               │\n",
       "└─────────────────────────────────┴────────────────────────┴───────────────┘\n"
      ]
     },
     "metadata": {},
     "output_type": "display_data"
    },
    {
     "data": {
      "text/html": [
       "<pre style=\"white-space:pre;overflow-x:auto;line-height:normal;font-family:Menlo,'DejaVu Sans Mono',consolas,'Courier New',monospace\"><span style=\"font-weight: bold\"> Total params: </span><span style=\"color: #00af00; text-decoration-color: #00af00\">199,555</span> (779.51 KB)\n",
       "</pre>\n"
      ],
      "text/plain": [
       "\u001b[1m Total params: \u001b[0m\u001b[38;5;34m199,555\u001b[0m (779.51 KB)\n"
      ]
     },
     "metadata": {},
     "output_type": "display_data"
    },
    {
     "data": {
      "text/html": [
       "<pre style=\"white-space:pre;overflow-x:auto;line-height:normal;font-family:Menlo,'DejaVu Sans Mono',consolas,'Courier New',monospace\"><span style=\"font-weight: bold\"> Trainable params: </span><span style=\"color: #00af00; text-decoration-color: #00af00\">199,555</span> (779.51 KB)\n",
       "</pre>\n"
      ],
      "text/plain": [
       "\u001b[1m Trainable params: \u001b[0m\u001b[38;5;34m199,555\u001b[0m (779.51 KB)\n"
      ]
     },
     "metadata": {},
     "output_type": "display_data"
    },
    {
     "data": {
      "text/html": [
       "<pre style=\"white-space:pre;overflow-x:auto;line-height:normal;font-family:Menlo,'DejaVu Sans Mono',consolas,'Courier New',monospace\"><span style=\"font-weight: bold\"> Non-trainable params: </span><span style=\"color: #00af00; text-decoration-color: #00af00\">0</span> (0.00 B)\n",
       "</pre>\n"
      ],
      "text/plain": [
       "\u001b[1m Non-trainable params: \u001b[0m\u001b[38;5;34m0\u001b[0m (0.00 B)\n"
      ]
     },
     "metadata": {},
     "output_type": "display_data"
    }
   ],
   "source": [
    "from tensorflow.keras.models import Model\n",
    "from tensorflow.keras.layers import Input, LSTM, RepeatVector, TimeDistributed, Dense\n",
    "\n",
    "def build_autoencoder():\n",
    "    input_img = Input(shape=(1024, 3))\n",
    "    encoded = LSTM(128, activation='relu')(input_img)\n",
    "    encoded = RepeatVector(1024)(encoded)\n",
    "    decoded = LSTM(128, activation='relu', return_sequences=True)(encoded)\n",
    "    decoded = TimeDistributed(Dense(3))(decoded)\n",
    "    autoencoder = Model(input_img, decoded)\n",
    "    return autoencoder\n",
    "\n",
    "autoencoder = build_autoencoder()\n",
    "autoencoder.summary()"
   ]
  },
  {
   "cell_type": "code",
   "execution_count": 10,
   "id": "0bfbf60f-c081-4c3e-a0f2-c0d2233286fe",
   "metadata": {},
   "outputs": [
    {
     "name": "stdout",
     "output_type": "stream",
     "text": [
      "Epoch 1/2\n",
      "50/50 - 68s - 1s/step - loss: nan - val_loss: nan\n",
      "Epoch 2/2\n",
      "50/50 - 43s - 859ms/step - loss: nan - val_loss: nan\n",
      "\u001b[1m1/1\u001b[0m \u001b[32m━━━━━━━━━━━━━━━━━━━━\u001b[0m\u001b[37m\u001b[0m \u001b[1m5s\u001b[0m 5s/step\n",
      "Reconstructed shape: (20, 1024, 3)\n",
      "x_test_flat shape: (20, 3072)\n",
      "Reconstructed_flat shape: (20, 3072)\n",
      "x_test_binary: [0 1]\n",
      "reconstructed_binary: [0]\n"
     ]
    },
    {
     "ename": "NameError",
     "evalue": "name 'accuracy_score' is not defined",
     "output_type": "error",
     "traceback": [
      "\u001b[0;31m---------------------------------------------------------------------------\u001b[0m",
      "\u001b[0;31mNameError\u001b[0m                                 Traceback (most recent call last)",
      "Cell \u001b[0;32mIn[10], line 18\u001b[0m\n\u001b[1;32m     15\u001b[0m     display_images(x_test_subset, x_test_noisy_subset, reconstructed)\n\u001b[1;32m     17\u001b[0m \u001b[38;5;28;01mif\u001b[39;00m \u001b[38;5;18m__name__\u001b[39m \u001b[38;5;241m==\u001b[39m \u001b[38;5;124m\"\u001b[39m\u001b[38;5;124m__main__\u001b[39m\u001b[38;5;124m\"\u001b[39m:\n\u001b[0;32m---> 18\u001b[0m     \u001b[43mmain\u001b[49m\u001b[43m(\u001b[49m\u001b[43m)\u001b[49m\n",
      "Cell \u001b[0;32mIn[10], line 11\u001b[0m, in \u001b[0;36mmain\u001b[0;34m()\u001b[0m\n\u001b[1;32m      8\u001b[0m autoencoder \u001b[38;5;241m=\u001b[39m build_autoencoder()\n\u001b[1;32m      9\u001b[0m autoencoder, history \u001b[38;5;241m=\u001b[39m train_autoencoder(autoencoder, x_train_subset, x_train_noisy_subset, x_test_subset, x_test_noisy_subset)\n\u001b[0;32m---> 11\u001b[0m reconstructed \u001b[38;5;241m=\u001b[39m \u001b[43mevaluate_model\u001b[49m\u001b[43m(\u001b[49m\u001b[43mautoencoder\u001b[49m\u001b[43m,\u001b[49m\u001b[43m \u001b[49m\u001b[43mx_test_subset\u001b[49m\u001b[43m,\u001b[49m\u001b[43m \u001b[49m\u001b[43mx_test_noisy_subset\u001b[49m\u001b[43m)\u001b[49m\n\u001b[1;32m     12\u001b[0m ssim_value \u001b[38;5;241m=\u001b[39m calculate_ssim(x_test_subset, reconstructed)\n\u001b[1;32m     13\u001b[0m \u001b[38;5;28mprint\u001b[39m(\u001b[38;5;124mf\u001b[39m\u001b[38;5;124m\"\u001b[39m\u001b[38;5;124mSSIM: \u001b[39m\u001b[38;5;132;01m{\u001b[39;00mssim_value\u001b[38;5;132;01m}\u001b[39;00m\u001b[38;5;124m\"\u001b[39m)\n",
      "Cell \u001b[0;32mIn[2], line 18\u001b[0m, in \u001b[0;36mevaluate_model\u001b[0;34m(autoencoder, x_test, x_test_noisy)\u001b[0m\n\u001b[1;32m     15\u001b[0m \u001b[38;5;28mprint\u001b[39m(\u001b[38;5;124mf\u001b[39m\u001b[38;5;124m\"\u001b[39m\u001b[38;5;124mx_test_binary: \u001b[39m\u001b[38;5;132;01m{\u001b[39;00mnp\u001b[38;5;241m.\u001b[39munique(x_test_binary)\u001b[38;5;132;01m}\u001b[39;00m\u001b[38;5;124m\"\u001b[39m)\n\u001b[1;32m     16\u001b[0m \u001b[38;5;28mprint\u001b[39m(\u001b[38;5;124mf\u001b[39m\u001b[38;5;124m\"\u001b[39m\u001b[38;5;124mreconstructed_binary: \u001b[39m\u001b[38;5;132;01m{\u001b[39;00mnp\u001b[38;5;241m.\u001b[39munique(reconstructed_binary)\u001b[38;5;132;01m}\u001b[39;00m\u001b[38;5;124m\"\u001b[39m)\n\u001b[0;32m---> 18\u001b[0m accuracy \u001b[38;5;241m=\u001b[39m \u001b[43maccuracy_score\u001b[49m(x_test_binary, reconstructed_binary)\n\u001b[1;32m     19\u001b[0m precision \u001b[38;5;241m=\u001b[39m precision_score(x_test_binary, reconstructed_binary, average\u001b[38;5;241m=\u001b[39m\u001b[38;5;124m'\u001b[39m\u001b[38;5;124mmacro\u001b[39m\u001b[38;5;124m'\u001b[39m, zero_division\u001b[38;5;241m=\u001b[39m\u001b[38;5;241m0\u001b[39m)\n\u001b[1;32m     20\u001b[0m recall \u001b[38;5;241m=\u001b[39m recall_score(x_test_binary, reconstructed_binary, average\u001b[38;5;241m=\u001b[39m\u001b[38;5;124m'\u001b[39m\u001b[38;5;124mmacro\u001b[39m\u001b[38;5;124m'\u001b[39m, zero_division\u001b[38;5;241m=\u001b[39m\u001b[38;5;241m0\u001b[39m)\n",
      "\u001b[0;31mNameError\u001b[0m: name 'accuracy_score' is not defined"
     ]
    }
   ],
   "source": [
    "def main():\n",
    "    x_train, x_test = load_and_preprocess_data()\n",
    "    x_train_subset = x_train[:100]\n",
    "    x_train_noisy_subset = blur_images(x_train_subset)\n",
    "    x_test_subset = x_test[:20]\n",
    "    x_test_noisy_subset = blur_images(x_test_subset)\n",
    "\n",
    "    autoencoder = build_autoencoder()\n",
    "    autoencoder, history = train_autoencoder(autoencoder, x_train_subset, x_train_noisy_subset, x_test_subset, x_test_noisy_subset)\n",
    "\n",
    "    reconstructed = evaluate_model(autoencoder, x_test_subset, x_test_noisy_subset)\n",
    "    ssim_value = calculate_ssim(x_test_subset, reconstructed)\n",
    "    print(f\"SSIM: {ssim_value}\")\n",
    "\n",
    "    display_images(x_test_subset, x_test_noisy_subset, reconstructed)\n",
    "\n",
    "if __name__ == \"__main__\":\n",
    "    main()\n"
   ]
  },
  {
   "cell_type": "code",
   "execution_count": 5,
   "id": "9cddca7b-87e7-4703-a18a-03b2b1803343",
   "metadata": {},
   "outputs": [
    {
     "name": "stdout",
     "output_type": "stream",
     "text": [
      "NaNs in x_train: 0\n",
      "NaNs in x_test: 0\n",
      "x_train shape: (50000, 1024, 3)\n",
      "x_test shape: (10000, 1024, 3)\n"
     ]
    }
   ],
   "source": [
    "import numpy as np\n",
    "from tensorflow.keras.datasets import cifar10\n",
    "\n",
    "def load_and_preprocess_data():\n",
    "    (x_train, _), (x_test, _) = cifar10.load_data()\n",
    "    x_train = x_train.astype('float32') / 255.0\n",
    "    x_test = x_test.astype('float32') / 255.0\n",
    "    \n",
    "    print(f\"NaNs in x_train: {np.isnan(x_train).sum()}\")\n",
    "    print(f\"NaNs in x_test: {np.isnan(x_test).sum()}\")\n",
    "    \n",
    "    x_train = x_train.reshape((x_train.shape[0], 1024, 3))\n",
    "    x_test = x_test.reshape((x_test.shape[0], 1024, 3))\n",
    "    \n",
    "    return x_train, x_test\n",
    "\n",
    "x_train, x_test = load_and_preprocess_data()\n",
    "print(f\"x_train shape: {x_train.shape}\")\n",
    "print(f\"x_test shape: {x_test.shape}\")\n"
   ]
  },
  {
   "cell_type": "code",
   "execution_count": 6,
   "id": "572bc709-da10-47f6-924a-c93f994af0d5",
   "metadata": {},
   "outputs": [
    {
     "name": "stdout",
     "output_type": "stream",
     "text": [
      "Epoch 1/5\n",
      "4/4 - 48s - 12s/step - loss: 0.2502 - val_loss: 0.2756\n",
      "Epoch 2/5\n",
      "4/4 - 24s - 6s/step - loss: 0.2492 - val_loss: 0.2747\n",
      "Epoch 3/5\n",
      "4/4 - 24s - 6s/step - loss: 0.2483 - val_loss: 0.2738\n",
      "Epoch 4/5\n",
      "4/4 - 27s - 7s/step - loss: 0.2473 - val_loss: 0.2729\n",
      "Epoch 5/5\n",
      "4/4 - 27s - 7s/step - loss: 0.2463 - val_loss: 0.2720\n",
      "\u001b[1m1/1\u001b[0m \u001b[32m━━━━━━━━━━━━━━━━━━━━\u001b[0m\u001b[37m\u001b[0m \u001b[1m5s\u001b[0m 5s/step\n",
      "Accuracy: 0.0\n",
      "Precision: 0.0\n",
      "Recall: 0.0\n"
     ]
    },
    {
     "ename": "ValueError",
     "evalue": "Since image dtype is floating point, you must specify the data_range parameter. Please read the documentation carefully (including the note). It is recommended that you always specify the data_range anyway.",
     "output_type": "error",
     "traceback": [
      "\u001b[0;31m---------------------------------------------------------------------------\u001b[0m",
      "\u001b[0;31mValueError\u001b[0m                                Traceback (most recent call last)",
      "Cell \u001b[0;32mIn[6], line 100\u001b[0m\n\u001b[1;32m     97\u001b[0m     display_images(x_test[:\u001b[38;5;241m20\u001b[39m], x_test_noisy, reconstructed)\n\u001b[1;32m     99\u001b[0m \u001b[38;5;28;01mif\u001b[39;00m \u001b[38;5;18m__name__\u001b[39m \u001b[38;5;241m==\u001b[39m \u001b[38;5;124m\"\u001b[39m\u001b[38;5;124m__main__\u001b[39m\u001b[38;5;124m\"\u001b[39m:\n\u001b[0;32m--> 100\u001b[0m     \u001b[43mmain\u001b[49m\u001b[43m(\u001b[49m\u001b[43m)\u001b[49m\n",
      "Cell \u001b[0;32mIn[6], line 94\u001b[0m, in \u001b[0;36mmain\u001b[0;34m()\u001b[0m\n\u001b[1;32m     90\u001b[0m autoencoder, history \u001b[38;5;241m=\u001b[39m train_autoencoder(autoencoder, x_train[:\u001b[38;5;241m100\u001b[39m], x_train_noisy, x_test[:\u001b[38;5;241m20\u001b[39m], x_test_noisy)\n\u001b[1;32m     92\u001b[0m reconstructed \u001b[38;5;241m=\u001b[39m evaluate_model(autoencoder, x_test[:\u001b[38;5;241m20\u001b[39m], x_test_noisy)\n\u001b[0;32m---> 94\u001b[0m ssim_value \u001b[38;5;241m=\u001b[39m \u001b[43mcalculate_ssim\u001b[49m\u001b[43m(\u001b[49m\u001b[43mx_test\u001b[49m\u001b[43m[\u001b[49m\u001b[43m:\u001b[49m\u001b[38;5;241;43m20\u001b[39;49m\u001b[43m]\u001b[49m\u001b[43m,\u001b[49m\u001b[43m \u001b[49m\u001b[43mreconstructed\u001b[49m\u001b[43m)\u001b[49m\n\u001b[1;32m     95\u001b[0m \u001b[38;5;28mprint\u001b[39m(\u001b[38;5;124mf\u001b[39m\u001b[38;5;124m\"\u001b[39m\u001b[38;5;124mSSIM: \u001b[39m\u001b[38;5;132;01m{\u001b[39;00mssim_value\u001b[38;5;132;01m}\u001b[39;00m\u001b[38;5;124m\"\u001b[39m)\n\u001b[1;32m     97\u001b[0m display_images(x_test[:\u001b[38;5;241m20\u001b[39m], x_test_noisy, reconstructed)\n",
      "Cell \u001b[0;32mIn[6], line 66\u001b[0m, in \u001b[0;36mcalculate_ssim\u001b[0;34m(original, reconstructed)\u001b[0m\n\u001b[1;32m     64\u001b[0m total_ssim \u001b[38;5;241m=\u001b[39m \u001b[38;5;241m0\u001b[39m\n\u001b[1;32m     65\u001b[0m \u001b[38;5;28;01mfor\u001b[39;00m i \u001b[38;5;129;01min\u001b[39;00m \u001b[38;5;28mrange\u001b[39m(\u001b[38;5;28mlen\u001b[39m(original)):\n\u001b[0;32m---> 66\u001b[0m     total_ssim \u001b[38;5;241m+\u001b[39m\u001b[38;5;241m=\u001b[39m \u001b[43mssim\u001b[49m\u001b[43m(\u001b[49m\u001b[43moriginal\u001b[49m\u001b[43m[\u001b[49m\u001b[43mi\u001b[49m\u001b[43m]\u001b[49m\u001b[43m,\u001b[49m\u001b[43m \u001b[49m\u001b[43mreconstructed\u001b[49m\u001b[43m[\u001b[49m\u001b[43mi\u001b[49m\u001b[43m]\u001b[49m\u001b[43m,\u001b[49m\u001b[43m \u001b[49m\u001b[43mmultichannel\u001b[49m\u001b[38;5;241;43m=\u001b[39;49m\u001b[38;5;28;43;01mTrue\u001b[39;49;00m\u001b[43m,\u001b[49m\u001b[43m \u001b[49m\u001b[43mwin_size\u001b[49m\u001b[38;5;241;43m=\u001b[39;49m\u001b[38;5;241;43m3\u001b[39;49m\u001b[43m)\u001b[49m\n\u001b[1;32m     67\u001b[0m \u001b[38;5;28;01mreturn\u001b[39;00m total_ssim \u001b[38;5;241m/\u001b[39m \u001b[38;5;28mlen\u001b[39m(original)\n",
      "File \u001b[0;32m~/myenv/lib/python3.12/site-packages/skimage/metrics/_structural_similarity.py:204\u001b[0m, in \u001b[0;36mstructural_similarity\u001b[0;34m(im1, im2, win_size, gradient, data_range, channel_axis, gaussian_weights, full, **kwargs)\u001b[0m\n\u001b[1;32m    200\u001b[0m \u001b[38;5;28;01mif\u001b[39;00m data_range \u001b[38;5;129;01mis\u001b[39;00m \u001b[38;5;28;01mNone\u001b[39;00m:\n\u001b[1;32m    201\u001b[0m     \u001b[38;5;28;01mif\u001b[39;00m np\u001b[38;5;241m.\u001b[39missubdtype(im1\u001b[38;5;241m.\u001b[39mdtype, np\u001b[38;5;241m.\u001b[39mfloating) \u001b[38;5;129;01mor\u001b[39;00m np\u001b[38;5;241m.\u001b[39missubdtype(\n\u001b[1;32m    202\u001b[0m         im2\u001b[38;5;241m.\u001b[39mdtype, np\u001b[38;5;241m.\u001b[39mfloating\n\u001b[1;32m    203\u001b[0m     ):\n\u001b[0;32m--> 204\u001b[0m         \u001b[38;5;28;01mraise\u001b[39;00m \u001b[38;5;167;01mValueError\u001b[39;00m(\n\u001b[1;32m    205\u001b[0m             \u001b[38;5;124m'\u001b[39m\u001b[38;5;124mSince image dtype is floating point, you must specify \u001b[39m\u001b[38;5;124m'\u001b[39m\n\u001b[1;32m    206\u001b[0m             \u001b[38;5;124m'\u001b[39m\u001b[38;5;124mthe data_range parameter. Please read the documentation \u001b[39m\u001b[38;5;124m'\u001b[39m\n\u001b[1;32m    207\u001b[0m             \u001b[38;5;124m'\u001b[39m\u001b[38;5;124mcarefully (including the note). It is recommended that \u001b[39m\u001b[38;5;124m'\u001b[39m\n\u001b[1;32m    208\u001b[0m             \u001b[38;5;124m'\u001b[39m\u001b[38;5;124myou always specify the data_range anyway.\u001b[39m\u001b[38;5;124m'\u001b[39m\n\u001b[1;32m    209\u001b[0m         )\n\u001b[1;32m    210\u001b[0m     \u001b[38;5;28;01mif\u001b[39;00m im1\u001b[38;5;241m.\u001b[39mdtype \u001b[38;5;241m!=\u001b[39m im2\u001b[38;5;241m.\u001b[39mdtype:\n\u001b[1;32m    211\u001b[0m         warn(\n\u001b[1;32m    212\u001b[0m             \u001b[38;5;124m\"\u001b[39m\u001b[38;5;124mInputs have mismatched dtypes. Setting data_range based on im1.dtype.\u001b[39m\u001b[38;5;124m\"\u001b[39m,\n\u001b[1;32m    213\u001b[0m             stacklevel\u001b[38;5;241m=\u001b[39m\u001b[38;5;241m2\u001b[39m,\n\u001b[1;32m    214\u001b[0m         )\n",
      "\u001b[0;31mValueError\u001b[0m: Since image dtype is floating point, you must specify the data_range parameter. Please read the documentation carefully (including the note). It is recommended that you always specify the data_range anyway."
     ]
    }
   ],
   "source": [
    "import numpy as np\n",
    "import tensorflow as tf\n",
    "from tensorflow.keras.datasets import cifar10\n",
    "from tensorflow.keras.models import Model\n",
    "from tensorflow.keras.layers import Input, LSTM, RepeatVector, TimeDistributed, Dense\n",
    "from tensorflow.keras.optimizers import Adam\n",
    "from sklearn.metrics import accuracy_score, precision_score, recall_score\n",
    "from skimage.metrics import structural_similarity as ssim\n",
    "import matplotlib.pyplot as plt\n",
    "\n",
    "def load_and_preprocess_data():\n",
    "    (x_train, _), (x_test, _) = cifar10.load_data()\n",
    "    x_train = x_train.astype('float32') / 255.0\n",
    "    x_test = x_test.astype('float32') / 255.0\n",
    "    x_train = x_train.reshape((x_train.shape[0], 1024, 3))\n",
    "    x_test = x_test.reshape((x_test.shape[0], 1024, 3))\n",
    "    return x_train, x_test\n",
    "\n",
    "def blur_images(images):\n",
    "    noise = np.random.normal(loc=0.0, scale=0.1, size=images.shape)\n",
    "    noisy_images = images + noise\n",
    "    return np.clip(noisy_images, 0., 1.)\n",
    "\n",
    "def build_autoencoder():\n",
    "    input_img = Input(shape=(1024, 3))\n",
    "    encoded = LSTM(128, activation='relu')(input_img)\n",
    "    encoded = RepeatVector(1024)(encoded)\n",
    "    decoded = LSTM(128, activation='relu', return_sequences=True)(encoded)\n",
    "    decoded = TimeDistributed(Dense(3))(decoded)\n",
    "    autoencoder = Model(input_img, decoded)\n",
    "    return autoencoder\n",
    "\n",
    "def train_autoencoder(autoencoder, x_train, x_train_noisy, x_test, x_test_noisy):\n",
    "    optimizer = Adam(learning_rate=0.00001, clipnorm=1.0)\n",
    "    autoencoder.compile(optimizer=optimizer, loss='mse')\n",
    "    \n",
    "    history = autoencoder.fit(x_train_noisy, x_train, \n",
    "                              epochs=5, \n",
    "                              batch_size=32, \n",
    "                              validation_data=(x_test_noisy, x_test),\n",
    "                              verbose=2)\n",
    "    return autoencoder, history\n",
    "\n",
    "def evaluate_model(autoencoder, x_test, x_test_noisy):\n",
    "    reconstructed = autoencoder.predict(x_test_noisy)\n",
    "    x_test_flat = x_test.reshape((-1, 1024 * 3))\n",
    "    reconstructed_flat = reconstructed.reshape((-1, 1024 * 3))\n",
    "    \n",
    "    threshold = 0.5\n",
    "    x_test_binary = (x_test_flat > threshold).astype(int)\n",
    "    reconstructed_binary = (reconstructed_flat > threshold).astype(int)\n",
    "    \n",
    "    accuracy = accuracy_score(x_test_binary, reconstructed_binary)\n",
    "    precision = precision_score(x_test_binary, reconstructed_binary, average='macro', zero_division=0)\n",
    "    recall = recall_score(x_test_binary, reconstructed_binary, average='macro', zero_division=0)\n",
    "    \n",
    "    print(f\"Accuracy: {accuracy}\")\n",
    "    print(f\"Precision: {precision}\")\n",
    "    print(f\"Recall: {recall}\")\n",
    "    \n",
    "    return reconstructed\n",
    "\n",
    "def calculate_ssim(original, reconstructed):\n",
    "    total_ssim = 0\n",
    "    for i in range(len(original)):\n",
    "        total_ssim += ssim(original[i], reconstructed[i], multichannel=True, win_size=3)\n",
    "    return total_ssim / len(original)\n",
    "\n",
    "def display_images(original, noisy, reconstructed, num_images=5):\n",
    "    plt.figure(figsize=(10, 3))\n",
    "    for i in range(num_images):\n",
    "        plt.subplot(3, num_images, i + 1)\n",
    "        plt.imshow(original[i].reshape(32, 32, 3))\n",
    "        plt.axis('off')\n",
    "        plt.subplot(3, num_images, num_images + i + 1)\n",
    "        plt.imshow(noisy[i].reshape(32, 32, 3))\n",
    "        plt.axis('off')\n",
    "        plt.subplot(3, num_images, 2 * num_images + i + 1)\n",
    "        plt.imshow(reconstructed[i].reshape(32, 32, 3))\n",
    "        plt.axis('off')\n",
    "    plt.show()\n",
    "\n",
    "def main():\n",
    "    x_train, x_test = load_and_preprocess_data()\n",
    "    x_train_noisy = blur_images(x_train[:100])  \n",
    "    x_test_noisy = blur_images(x_test[:20])  \n",
    "\n",
    "    autoencoder = build_autoencoder()\n",
    "    \n",
    "    autoencoder, history = train_autoencoder(autoencoder, x_train[:100], x_train_noisy, x_test[:20], x_test_noisy)\n",
    "    \n",
    "    reconstructed = evaluate_model(autoencoder, x_test[:20], x_test_noisy)\n",
    "    \n",
    "    ssim_value = calculate_ssim(x_test[:20], reconstructed)\n",
    "    print(f\"SSIM: {ssim_value}\")\n",
    "    \n",
    "    display_images(x_test[:20], x_test_noisy, reconstructed)\n",
    "\n",
    "if __name__ == \"__main__\":\n",
    "    main()\n"
   ]
  },
  {
   "cell_type": "code",
   "execution_count": 7,
   "id": "da175ee9-c21b-49f5-81dc-f1f24246503b",
   "metadata": {},
   "outputs": [
    {
     "name": "stdout",
     "output_type": "stream",
     "text": [
      "Epoch 1/5\n",
      "4/4 - 56s - 14s/step - loss: 0.2689 - val_loss: 0.2910\n",
      "Epoch 2/5\n",
      "4/4 - 25s - 6s/step - loss: 0.2677 - val_loss: 0.2900\n",
      "Epoch 3/5\n",
      "4/4 - 24s - 6s/step - loss: 0.2665 - val_loss: 0.2889\n",
      "Epoch 4/5\n",
      "4/4 - 25s - 6s/step - loss: 0.2653 - val_loss: 0.2879\n",
      "Epoch 5/5\n",
      "4/4 - 24s - 6s/step - loss: 0.2641 - val_loss: 0.2869\n",
      "\u001b[1m1/1\u001b[0m \u001b[32m━━━━━━━━━━━━━━━━━━━━\u001b[0m\u001b[37m\u001b[0m \u001b[1m5s\u001b[0m 5s/step\n"
     ]
    },
    {
     "name": "stderr",
     "output_type": "stream",
     "text": [
      "Clipping input data to the valid range for imshow with RGB data ([0..1] for floats or [0..255] for integers). Got range [-0.030596262..0.03005048].\n",
      "Clipping input data to the valid range for imshow with RGB data ([0..1] for floats or [0..255] for integers). Got range [-0.06549008..0.039808307].\n"
     ]
    },
    {
     "name": "stdout",
     "output_type": "stream",
     "text": [
      "Accuracy: 0.0\n",
      "Precision: 0.0\n",
      "Recall: 0.0\n",
      "SSIM: 0.005439260360525853\n"
     ]
    },
    {
     "name": "stderr",
     "output_type": "stream",
     "text": [
      "Clipping input data to the valid range for imshow with RGB data ([0..1] for floats or [0..255] for integers). Got range [-0.00756971..0.00763406].\n",
      "Clipping input data to the valid range for imshow with RGB data ([0..1] for floats or [0..255] for integers). Got range [-0.024748772..0.017485963].\n",
      "Clipping input data to the valid range for imshow with RGB data ([0..1] for floats or [0..255] for integers). Got range [-0.05868476..0.03200957].\n"
     ]
    },
    {
     "data": {
      "image/png": "[encoded data removed]",
      "text/plain": [
       "<Figure size 1000x300 with 15 Axes>"
      ]
     },
     "metadata": {},
     "output_type": "display_data"
    }
   ],
   "source": [
    "import numpy as np\n",
    "import tensorflow as tf\n",
    "from tensorflow.keras.datasets import cifar10\n",
    "from tensorflow.keras.models import Model\n",
    "from tensorflow.keras.layers import Input, LSTM, RepeatVector, TimeDistributed, Dense\n",
    "from tensorflow.keras.optimizers import Adam\n",
    "from sklearn.metrics import accuracy_score, precision_score, recall_score\n",
    "from skimage.metrics import structural_similarity as ssim\n",
    "import matplotlib.pyplot as plt\n",
    "\n",
    "def load_and_preprocess_data():\n",
    "    (x_train, _), (x_test, _) = cifar10.load_data()\n",
    "    x_train = x_train.astype('float32') / 255.0\n",
    "    x_test = x_test.astype('float32') / 255.0\n",
    "    x_train = x_train.reshape((x_train.shape[0], 1024, 3))\n",
    "    x_test = x_test.reshape((x_test.shape[0], 1024, 3))\n",
    "    return x_train, x_test\n",
    "\n",
    "def blur_images(images):\n",
    "    noise = np.random.normal(loc=0.0, scale=0.1, size=images.shape)\n",
    "    noisy_images = images + noise\n",
    "    return np.clip(noisy_images, 0., 1.)\n",
    "\n",
    "def build_autoencoder():\n",
    "    input_img = Input(shape=(1024, 3))\n",
    "    encoded = LSTM(128, activation='relu')(input_img)\n",
    "    encoded = RepeatVector(1024)(encoded)\n",
    "    decoded = LSTM(128, activation='relu', return_sequences=True)(encoded)\n",
    "    decoded = TimeDistributed(Dense(3))(decoded)\n",
    "    autoencoder = Model(input_img, decoded)\n",
    "    return autoencoder\n",
    "\n",
    "def train_autoencoder(autoencoder, x_train, x_train_noisy, x_test, x_test_noisy):\n",
    "    optimizer = Adam(learning_rate=0.00001, clipnorm=1.0)\n",
    "    autoencoder.compile(optimizer=optimizer, loss='mse')\n",
    "    \n",
    "\n",
    "    history = autoencoder.fit(x_train_noisy, x_train, \n",
    "                              epochs=5, \n",
    "                              batch_size=32, \n",
    "                              validation_data=(x_test_noisy, x_test),\n",
    "                              verbose=2)\n",
    "    return autoencoder, history\n",
    "\n",
    "\n",
    "def evaluate_model(autoencoder, x_test, x_test_noisy):\n",
    "    reconstructed = autoencoder.predict(x_test_noisy)\n",
    "    x_test_flat = x_test.reshape((-1, 1024 * 3))\n",
    "    reconstructed_flat = reconstructed.reshape((-1, 1024 * 3))\n",
    "    \n",
    "    threshold = 0.5\n",
    "    x_test_binary = (x_test_flat > threshold).astype(int)\n",
    "    reconstructed_binary = (reconstructed_flat > threshold).astype(int)\n",
    "    \n",
    "    accuracy = accuracy_score(x_test_binary, reconstructed_binary)\n",
    "    precision = precision_score(x_test_binary, reconstructed_binary, average='macro', zero_division=0)\n",
    "    recall = recall_score(x_test_binary, reconstructed_binary, average='macro', zero_division=0)\n",
    "    \n",
    "    print(f\"Accuracy: {accuracy}\")\n",
    "    print(f\"Precision: {precision}\")\n",
    "    print(f\"Recall: {recall}\")\n",
    "    \n",
    "    return reconstructed\n",
    "\n",
    "def calculate_ssim(original, reconstructed):\n",
    "    total_ssim = 0\n",
    "    for i in range(len(original)):\n",
    "        total_ssim += ssim(original[i], reconstructed[i], multichannel=True, win_size=3, data_range=1.0) \n",
    "    return total_ssim / len(original)\n",
    "\n",
    "def display_images(original, noisy, reconstructed, num_images=5):\n",
    "    plt.figure(figsize=(10, 3))\n",
    "    for i in range(num_images):\n",
    "        plt.subplot(3, num_images, i + 1)\n",
    "        plt.imshow(original[i].reshape(32, 32, 3))\n",
    "        plt.axis('off')\n",
    "        plt.subplot(3, num_images, num_images + i + 1)\n",
    "        plt.imshow(noisy[i].reshape(32, 32, 3))\n",
    "        plt.axis('off')\n",
    "        plt.subplot(3, num_images, 2 * num_images + i + 1)\n",
    "        plt.imshow(reconstructed[i].reshape(32, 32, 3))\n",
    "        plt.axis('off')\n",
    "    plt.show()\n",
    "\n",
    "def main():\n",
    "    x_train, x_test = load_and_preprocess_data()\n",
    "    x_train_noisy = blur_images(x_train[:100]) \n",
    "    x_test_noisy = blur_images(x_test[:20]) \n",
    "\n",
    "    autoencoder = build_autoencoder()\n",
    "    \n",
    "    autoencoder, history = train_autoencoder(autoencoder, x_train[:100], x_train_noisy, x_test[:20], x_test_noisy)\n",
    "    \n",
    "    reconstructed = evaluate_model(autoencoder, x_test[:20], x_test_noisy)\n",
    "    \n",
    "    ssim_value = calculate_ssim(x_test[:20], reconstructed)\n",
    "    print(f\"SSIM: {ssim_value}\")\n",
    "    \n",
    "    display_images(x_test[:20], x_test_noisy, reconstructed)\n",
    "\n",
    "if __name__ == \"__main__\":\n",
    "    main()\n"
   ]
  },
  {
   "cell_type": "code",
   "execution_count": 8,
   "id": "77262db5-59c4-49c2-9459-507ccf610552",
   "metadata": {},
   "outputs": [],
   "source": [
    "def display_images(original, noisy, reconstructed, num_images=5):\n",
    "    plt.figure(figsize=(15, 5))\n",
    "    \n",
    "    reconstructed_clipped = np.clip(reconstructed, 0., 1.)\n",
    "    \n",
    "    for i in range(num_images):\n",
    "        plt.subplot(3, num_images, i + 1)\n",
    "        plt.imshow(original[i].reshape(32, 32, 3))\n",
    "        plt.title(\"Original\")\n",
    "        plt.axis('off')\n",
    "\n",
    "        plt.subplot(3, num_images, num_images + i + 1)\n",
    "        plt.imshow(noisy[i].reshape(32, 32, 3))\n",
    "        plt.title(\"Noisy\")\n",
    "        plt.axis('off')\n",
    "        \n",
    "        plt.subplot(3, num_images, 2 * num_images + i + 1)\n",
    "        plt.imshow(reconstructed_clipped[i].reshape(32, 32, 3))\n",
    "        plt.title(\"Reconstructed\")\n",
    "        plt.axis('off')\n",
    "\n",
    "    plt.savefig('reconstructed_vs_original.png')\n",
    "    plt.show()\n"
   ]
  },
  {
   "cell_type": "code",
   "execution_count": null,
   "id": "83d1ec83-17a6-4668-9526-b0d58ef754d4",
   "metadata": {},
   "outputs": [],
   "source": []
  },
  {
   "cell_type": "code",
   "execution_count": 3,
   "id": "67663110-08ff-40d2-a102-0724c7c8ca18",
   "metadata": {},
   "outputs": [
    {
     "data": {
      "text/plain": [
       "'/Users/preci'"
      ]
     },
     "execution_count": 3,
     "metadata": {},
     "output_type": "execute_result"
    }
   ],
   "source": [
    "import os\n",
    "os.getcwd()\n"
   ]
  },
  {
   "cell_type": "code",
   "execution_count": 12,
   "id": "d1792cad-0cf2-4f64-b20b-7a9d8c3904cb",
   "metadata": {},
   "outputs": [
    {
     "name": "stdout",
     "output_type": "stream",
     "text": [
      "Epoch 1/15\n",
      "4/4 - 51s - 13s/step - loss: 0.2741 - val_loss: 0.2974\n",
      "Epoch 2/15\n",
      "4/4 - 24s - 6s/step - loss: 0.2740 - val_loss: 0.2973\n",
      "Epoch 3/15\n",
      "4/4 - 32s - 8s/step - loss: 0.2739 - val_loss: 0.2972\n",
      "Epoch 4/15\n",
      "4/4 - 28s - 7s/step - loss: 0.2738 - val_loss: 0.2971\n",
      "Epoch 5/15\n",
      "4/4 - 25s - 6s/step - loss: 0.2737 - val_loss: 0.2970\n",
      "Epoch 6/15\n",
      "4/4 - 24s - 6s/step - loss: 0.2736 - val_loss: 0.2970\n",
      "Epoch 7/15\n",
      "4/4 - 25s - 6s/step - loss: 0.2735 - val_loss: 0.2969\n",
      "Epoch 8/15\n",
      "4/4 - 25s - 6s/step - loss: 0.2734 - val_loss: 0.2968\n",
      "Epoch 9/15\n",
      "4/4 - 25s - 6s/step - loss: 0.2734 - val_loss: 0.2967\n",
      "Epoch 10/15\n",
      "4/4 - 25s - 6s/step - loss: 0.2733 - val_loss: 0.2967\n",
      "Epoch 11/15\n",
      "4/4 - 29s - 7s/step - loss: 0.2732 - val_loss: 0.2966\n",
      "Epoch 12/15\n",
      "4/4 - 29s - 7s/step - loss: 0.2731 - val_loss: 0.2965\n",
      "Epoch 13/15\n",
      "4/4 - 28s - 7s/step - loss: 0.2730 - val_loss: 0.2964\n",
      "Epoch 14/15\n",
      "4/4 - 29s - 7s/step - loss: 0.2729 - val_loss: 0.2963\n",
      "Epoch 15/15\n",
      "4/4 - 29s - 7s/step - loss: 0.2728 - val_loss: 0.2963\n",
      "\u001b[1m1/1\u001b[0m \u001b[32m━━━━━━━━━━━━━━━━━━━━\u001b[0m\u001b[37m\u001b[0m \u001b[1m6s\u001b[0m 6s/step\n",
      "Reconstructed shape: (20, 1024, 3)\n",
      "Min value in reconstructed: -0.046883102506399155\n",
      "Max value in reconstructed: 0.0014061892870813608\n",
      "Accuracy: 0.0\n",
      "Precision: 0.0\n",
      "Recall: 0.0\n",
      "SSIM: 0.002902651000308047\n"
     ]
    }
   ],
   "source": [
    "import numpy as np\n",
    "import os\n",
    "import matplotlib.pyplot as plt\n",
    "import tensorflow as tf\n",
    "from tensorflow.keras.datasets import cifar10\n",
    "from tensorflow.keras.models import Model\n",
    "from tensorflow.keras.layers import Input, LSTM, RepeatVector, TimeDistributed, Dense\n",
    "from tensorflow.keras.optimizers import Adam\n",
    "from sklearn.metrics import accuracy_score, precision_score, recall_score\n",
    "from skimage.metrics import structural_similarity as ssim\n",
    "\n",
    "def save_visuals(fig, filename, save_dir=\"visuals\"):\n",
    "    if not os.path.exists(save_dir):\n",
    "        os.makedirs(save_dir)\n",
    "    filepath = os.path.join(save_dir, filename)\n",
    "    fig.savefig(filepath)\n",
    "    plt.close(fig)\n",
    "\n",
    "def load_and_preprocess_data():\n",
    "    (x_train, _), (x_test, _) = cifar10.load_data()\n",
    "    x_train = x_train.astype('float32') / 255.0\n",
    "    x_test = x_test.astype('float32') / 255.0\n",
    "    x_train = x_train.reshape((x_train.shape[0], 1024, 3))\n",
    "    x_test = x_test.reshape((x_test.shape[0], 1024, 3))\n",
    "    return x_train, x_test\n",
    "\n",
    "def blur_images(images):\n",
    "    noise = np.random.normal(loc=0.0, scale=0.1, size=images.shape)\n",
    "    noisy_images = images + noise\n",
    "    return np.clip(noisy_images, 0., 1.)\n",
    "\n",
    "def build_autoencoder():\n",
    "    input_img = Input(shape=(1024, 3))\n",
    "    encoded = LSTM(128, activation='relu')(input_img)\n",
    "    encoded = RepeatVector(1024)(encoded)\n",
    "    decoded = LSTM(128, activation='relu', return_sequences=True)(encoded)\n",
    "    decoded = TimeDistributed(Dense(3))(decoded)\n",
    "    autoencoder = Model(input_img, decoded)\n",
    "    return autoencoder\n",
    "\n",
    "def train_autoencoder(autoencoder, x_train, x_train_noisy, x_test, x_test_noisy):\n",
    "    optimizer = Adam(learning_rate=0.000001, clipnorm=1.0)\n",
    "    autoencoder.compile(optimizer=optimizer, loss='mse')\n",
    "    history = autoencoder.fit(x_train_noisy, x_train, \n",
    "                              epochs=15,  # Increased number of epochs to 15\n",
    "                              batch_size=32, \n",
    "                              validation_data=(x_test_noisy, x_test),\n",
    "                              verbose=2)\n",
    "    return autoencoder, history\n",
    "\n",
    "def plot_and_save_training_history(history, filename=\"training_loss.png\"):\n",
    "    fig, ax = plt.subplots()\n",
    "    ax.plot(history.history['loss'], label='Training Loss')\n",
    "    ax.plot(history.history['val_loss'], label='Validation Loss')\n",
    "    ax.set_title('Training and Validation Loss')\n",
    "    ax.set_xlabel('Epochs')\n",
    "    ax.set_ylabel('Loss')\n",
    "    ax.legend()\n",
    "    save_visuals(fig, filename)\n",
    "\n",
    "def evaluate_model(autoencoder, x_test, x_test_noisy):\n",
    "    reconstructed = autoencoder.predict(x_test_noisy)\n",
    "    print(f\"Reconstructed shape: {reconstructed.shape}\")\n",
    "    print(f\"Min value in reconstructed: {np.min(reconstructed)}\")\n",
    "    print(f\"Max value in reconstructed: {np.max(reconstructed)}\")\n",
    "    \n",
    "    reconstructed = np.clip(reconstructed, 0., 1.)\n",
    "    \n",
    "    x_test_flat = x_test.reshape((-1, 1024 * 3))\n",
    "    reconstructed_flat = reconstructed.reshape((-1, 1024 * 3))\n",
    "    \n",
    "    threshold = 0.5\n",
    "    x_test_binary = (x_test_flat > threshold).astype(int)\n",
    "    reconstructed_binary = (reconstructed_flat > threshold).astype(int)\n",
    "    \n",
    "    accuracy = accuracy_score(x_test_binary, reconstructed_binary)\n",
    "    precision = precision_score(x_test_binary, reconstructed_binary, average='macro', zero_division=0)\n",
    "    recall = recall_score(x_test_binary, reconstructed_binary, average='macro', zero_division=0)\n",
    "    \n",
    "    print(f\"Accuracy: {accuracy}\")\n",
    "    print(f\"Precision: {precision}\")\n",
    "    print(f\"Recall: {recall}\")\n",
    "    \n",
    "    return reconstructed\n",
    "\n",
    "def save_all_images(original, noisy, reconstructed, num_images=5):\n",
    "    save_dir = \"visuals\"\n",
    "    os.makedirs(os.path.join(save_dir, \"original\"), exist_ok=True)\n",
    "    os.makedirs(os.path.join(save_dir, \"noisy\"), exist_ok=True)\n",
    "    os.makedirs(os.path.join(save_dir, \"reconstructed\"), exist_ok=True)\n",
    "\n",
    "    for i in range(num_images):\n",
    "        fig, ax = plt.subplots()\n",
    "        ax.imshow(original[i].reshape(32, 32, 3))\n",
    "        ax.axis('off')\n",
    "        save_visuals(fig, f\"original/original_{i}.png\", save_dir)\n",
    "\n",
    "        fig, ax = plt.subplots()\n",
    "        ax.imshow(noisy[i].reshape(32, 32, 3))\n",
    "        ax.axis('off')\n",
    "        save_visuals(fig, f\"noisy/noisy_{i}.png\", save_dir)\n",
    "\n",
    "        fig, ax = plt.subplots()\n",
    "        ax.imshow(reconstructed[i].reshape(32, 32, 3))\n",
    "        ax.axis('off')\n",
    "        save_visuals(fig, f\"reconstructed/reconstructed_{i}.png\", save_dir)\n",
    "\n",
    "def calculate_ssim(original, reconstructed):\n",
    "    total_ssim = 0\n",
    "    for i in range(len(original)):\n",
    "        total_ssim += ssim(original[i], reconstructed[i], multichannel=True, win_size=3, data_range=1.0)\n",
    "    return total_ssim / len(original)\n",
    "\n",
    "def main():\n",
    "    x_train, x_test = load_and_preprocess_data()\n",
    "    x_train_noisy = blur_images(x_train[:100])\n",
    "    x_test_noisy = blur_images(x_test[:20])\n",
    "\n",
    "    autoencoder = build_autoencoder()\n",
    "    \n",
    "    autoencoder, history = train_autoencoder(autoencoder, x_train[:100], x_train_noisy, x_test[:20], x_test_noisy)\n",
    "    plot_and_save_training_history(history, \"training_loss.png\")\n",
    "\n",
    "    reconstructed = evaluate_model(autoencoder, x_test[:20], x_test_noisy)\n",
    "    save_all_images(x_test[:20], x_test_noisy, reconstructed, num_images=5)\n",
    "    \n",
    "    ssim_value = calculate_ssim(x_test[:20], reconstructed)\n",
    "    print(f\"SSIM: {ssim_value}\")\n",
    "\n",
    "if __name__ == \"__main__\":\n",
    "    main()\n"
   ]
  },
  {
   "cell_type": "code",
   "execution_count": 9,
   "id": "ab040bed-d31b-4e84-ba15-120d03569cee",
   "metadata": {},
   "outputs": [
    {
     "name": "stdout",
     "output_type": "stream",
     "text": [
      "Epoch 1/5\n",
      "4/4 - 54s - 13s/step - loss: 0.2538 - val_loss: 0.2804\n",
      "Epoch 2/5\n",
      "4/4 - 37s - 9s/step - loss: 0.2537 - val_loss: 0.2803\n",
      "Epoch 3/5\n",
      "4/4 - 29s - 7s/step - loss: 0.2536 - val_loss: 0.2802\n",
      "Epoch 4/5\n",
      "4/4 - 29s - 7s/step - loss: 0.2536 - val_loss: 0.2801\n",
      "Epoch 5/5\n",
      "4/4 - 31s - 8s/step - loss: 0.2535 - val_loss: 0.2801\n",
      "\u001b[1m1/1\u001b[0m \u001b[32m━━━━━━━━━━━━━━━━━━━━\u001b[0m\u001b[37m\u001b[0m \u001b[1m4s\u001b[0m 4s/step\n",
      "Reconstructed shape: (20, 1024, 3)\n",
      "Min value in reconstructed: -0.014241809025406837\n",
      "Max value in reconstructed: 0.029790446162223816\n",
      "Accuracy: 0.0\n",
      "Precision: 0.0\n",
      "Recall: 0.0\n",
      "SSIM: 0.014628425430119954\n"
     ]
    }
   ],
   "source": [
    "import numpy as np\n",
    "import os\n",
    "import matplotlib.pyplot as plt\n",
    "import tensorflow as tf\n",
    "from tensorflow.keras.datasets import cifar10\n",
    "from tensorflow.keras.models import Model\n",
    "from tensorflow.keras.layers import Input, LSTM, RepeatVector, TimeDistributed, Dense\n",
    "from tensorflow.keras.optimizers import Adam\n",
    "from sklearn.metrics import accuracy_score, precision_score, recall_score\n",
    "from skimage.metrics import structural_similarity as ssim\n",
    "\n",
    "def save_visuals(fig, filename, save_dir=\"visuals\"):\n",
    "    if not os.path.exists(save_dir):\n",
    "        os.makedirs(save_dir)\n",
    "    filepath = os.path.join(save_dir, filename)\n",
    "    fig.savefig(filepath)\n",
    "    plt.close(fig)\n",
    "\n",
    "def load_and_preprocess_data():\n",
    "    (x_train, _), (x_test, _) = cifar10.load_data()\n",
    "    x_train = x_train.astype('float32') / 255.0\n",
    "    x_test = x_test.astype('float32') / 255.0\n",
    "    x_train = x_train.reshape((x_train.shape[0], 1024, 3))\n",
    "    x_test = x_test.reshape((x_test.shape[0], 1024, 3))\n",
    "    return x_train, x_test\n",
    "\n",
    "def blur_images(images):\n",
    "    noise = np.random.normal(loc=0.0, scale=0.1, size=images.shape)\n",
    "    noisy_images = images + noise\n",
    "    return np.clip(noisy_images, 0., 1.)\n",
    "\n",
    "def build_autoencoder():\n",
    "    input_img = Input(shape=(1024, 3))\n",
    "    encoded = LSTM(128, activation='relu')(input_img)\n",
    "    encoded = RepeatVector(1024)(encoded)\n",
    "    decoded = LSTM(128, activation='relu', return_sequences=True)(encoded)\n",
    "    decoded = TimeDistributed(Dense(3))(decoded)\n",
    "    autoencoder = Model(input_img, decoded)\n",
    "    return autoencoder\n",
    "\n",
    "def train_autoencoder(autoencoder, x_train, x_train_noisy, x_test, x_test_noisy):\n",
    "    optimizer = Adam(learning_rate=0.000001, clipnorm=1.0)  # Adjusted learning rate\n",
    "    autoencoder.compile(optimizer=optimizer, loss='mse')\n",
    "    history = autoencoder.fit(x_train_noisy, x_train, \n",
    "                              epochs=5, \n",
    "                              batch_size=32, \n",
    "                              validation_data=(x_test_noisy, x_test),\n",
    "                              verbose=2)\n",
    "    return autoencoder, history\n",
    "\n",
    "def plot_and_save_training_history(history, filename=\"training_loss.png\"):\n",
    "    fig, ax = plt.subplots()\n",
    "    ax.plot(history.history['loss'], label='Training Loss')\n",
    "    ax.plot(history.history['val_loss'], label='Validation Loss')\n",
    "    ax.set_title('Training and Validation Loss')\n",
    "    ax.set_xlabel('Epochs')\n",
    "    ax.set_ylabel('Loss')\n",
    "    ax.legend()\n",
    "    save_visuals(fig, filename)\n",
    "\n",
    "def evaluate_model(autoencoder, x_test, x_test_noisy):\n",
    "    reconstructed = autoencoder.predict(x_test_noisy)\n",
    "    print(f\"Reconstructed shape: {reconstructed.shape}\")\n",
    "    print(f\"Min value in reconstructed: {np.min(reconstructed)}\")\n",
    "    print(f\"Max value in reconstructed: {np.max(reconstructed)}\")\n",
    "    \n",
    "    reconstructed = np.clip(reconstructed, 0., 1.)\n",
    "    \n",
    "    x_test_flat = x_test.reshape((-1, 1024 * 3))\n",
    "    reconstructed_flat = reconstructed.reshape((-1, 1024 * 3))\n",
    "    \n",
    "    threshold = 0.5\n",
    "    x_test_binary = (x_test_flat > threshold).astype(int)\n",
    "    reconstructed_binary = (reconstructed_flat > threshold).astype(int)\n",
    "    \n",
    "    accuracy = accuracy_score(x_test_binary, reconstructed_binary)\n",
    "    precision = precision_score(x_test_binary, reconstructed_binary, average='macro', zero_division=0)\n",
    "    recall = recall_score(x_test_binary, reconstructed_binary, average='macro', zero_division=0)\n",
    "    \n",
    "    print(f\"Accuracy: {accuracy}\")\n",
    "    print(f\"Precision: {precision}\")\n",
    "    print(f\"Recall: {recall}\")\n",
    "    \n",
    "    return reconstructed\n",
    "\n",
    "def save_all_images(original, noisy, reconstructed, num_images=5):\n",
    "    save_dir = \"visuals\"\n",
    "    os.makedirs(os.path.join(save_dir, \"original\"), exist_ok=True)\n",
    "    os.makedirs(os.path.join(save_dir, \"noisy\"), exist_ok=True)\n",
    "    os.makedirs(os.path.join(save_dir, \"reconstructed\"), exist_ok=True)\n",
    "\n",
    "    for i in range(num_images):\n",
    "        fig, ax = plt.subplots()\n",
    "        ax.imshow(original[i].reshape(32, 32, 3))\n",
    "        ax.axis('off')\n",
    "        save_visuals(fig, f\"original/original_{i}.png\", save_dir)\n",
    "\n",
    "        fig, ax = plt.subplots()\n",
    "        ax.imshow(noisy[i].reshape(32, 32, 3))\n",
    "        ax.axis('off')\n",
    "        save_visuals(fig, f\"noisy/noisy_{i}.png\", save_dir)\n",
    "\n",
    "        fig, ax = plt.subplots()\n",
    "        ax.imshow(reconstructed[i].reshape(32, 32, 3))\n",
    "        ax.axis('off')\n",
    "        save_visuals(fig, f\"reconstructed/reconstructed_{i}.png\", save_dir)\n",
    "\n",
    "def calculate_ssim(original, reconstructed):\n",
    "    total_ssim = 0\n",
    "    for i in range(len(original)):\n",
    "        total_ssim += ssim(original[i], reconstructed[i], multichannel=True, win_size=3, data_range=1.0)\n",
    "    return total_ssim / len(original)\n",
    "\n",
    "def main():\n",
    "    x_train, x_test = load_and_preprocess_data()\n",
    "    x_train_noisy = blur_images(x_train[:100])\n",
    "    x_test_noisy = blur_images(x_test[:20])\n",
    "\n",
    "    autoencoder = build_autoencoder()\n",
    "    \n",
    "    autoencoder, history = train_autoencoder(autoencoder, x_train[:100], x_train_noisy, x_test[:20], x_test_noisy)\n",
    "    plot_and_save_training_history(history, \"training_loss.png\")\n",
    "\n",
    "    reconstructed = evaluate_model(autoencoder, x_test[:20], x_test_noisy)\n",
    "    save_all_images(x_test[:20], x_test_noisy, reconstructed, num_images=5)\n",
    "    \n",
    "    ssim_value = calculate_ssim(x_test[:20], reconstructed)\n",
    "    print(f\"SSIM: {ssim_value}\")\n",
    "\n",
    "if __name__ == \"__main__\":\n",
    "    main()\n"
   ]
  },
  {
   "cell_type": "code",
   "execution_count": null,
   "id": "e570af8b-d9cf-44b2-b6ae-330ee0df4df1",
   "metadata": {},
   "outputs": [],
   "source": []
  },
  {
   "cell_type": "code",
   "execution_count": null,
   "id": "7c8362c1-0581-4bd7-b99d-952da77755df",
   "metadata": {},
   "outputs": [],
   "source": []
  },
  {
   "cell_type": "code",
   "execution_count": 11,
   "id": "d397b90b-9413-4940-b197-a4c10a34588a",
   "metadata": {},
   "outputs": [
    {
     "name": "stdout",
     "output_type": "stream",
     "text": [
      "/Users/preci\n"
     ]
    }
   ],
   "source": [
    "import os\n",
    "print(os.getcwd())"
   ]
  },
  {
   "cell_type": "code",
   "execution_count": 13,
   "id": "3d2ceb76-27e0-4522-8560-a2355a4284eb",
   "metadata": {},
   "outputs": [
    {
     "name": "stdout",
     "output_type": "stream",
     "text": [
      "Epoch 1/15\n",
      "4/4 - 51s - 13s/step - loss: 0.2538 - val_loss: 0.2799\n",
      "Epoch 2/15\n",
      "4/4 - 24s - 6s/step - loss: 0.2537 - val_loss: 0.2798\n",
      "Epoch 3/15\n",
      "4/4 - 24s - 6s/step - loss: 0.2536 - val_loss: 0.2797\n",
      "Epoch 4/15\n",
      "4/4 - 25s - 6s/step - loss: 0.2535 - val_loss: 0.2796\n",
      "Epoch 5/15\n",
      "4/4 - 25s - 6s/step - loss: 0.2533 - val_loss: 0.2795\n",
      "Epoch 6/15\n",
      "4/4 - 25s - 6s/step - loss: 0.2532 - val_loss: 0.2794\n",
      "Epoch 7/15\n",
      "4/4 - 25s - 6s/step - loss: 0.2531 - val_loss: 0.2793\n",
      "Epoch 8/15\n",
      "4/4 - 26s - 7s/step - loss: 0.2530 - val_loss: 0.2792\n",
      "Epoch 9/15\n",
      "4/4 - 27s - 7s/step - loss: 0.2529 - val_loss: 0.2791\n",
      "Epoch 10/15\n",
      "4/4 - 27s - 7s/step - loss: 0.2528 - val_loss: 0.2790\n",
      "Epoch 11/15\n",
      "4/4 - 26s - 6s/step - loss: 0.2527 - val_loss: 0.2789\n",
      "Epoch 12/15\n",
      "4/4 - 27s - 7s/step - loss: 0.2526 - val_loss: 0.2788\n",
      "Epoch 13/15\n",
      "4/4 - 29s - 7s/step - loss: 0.2525 - val_loss: 0.2787\n",
      "Epoch 14/15\n",
      "4/4 - 26s - 6s/step - loss: 0.2524 - val_loss: 0.2786\n",
      "Epoch 15/15\n",
      "4/4 - 26s - 6s/step - loss: 0.2523 - val_loss: 0.2785\n",
      "WARNING:tensorflow:5 out of the last 5 calls to <function TensorFlowTrainer.make_predict_function.<locals>.one_step_on_data_distributed at 0x14c826980> triggered tf.function retracing. Tracing is expensive and the excessive number of tracings could be due to (1) creating @tf.function repeatedly in a loop, (2) passing tensors with different shapes, (3) passing Python objects instead of tensors. For (1), please define your @tf.function outside of the loop. For (2), @tf.function has reduce_retracing=True option that can avoid unnecessary retracing. For (3), please refer to https://www.tensorflow.org/guide/function#controlling_retracing and https://www.tensorflow.org/api_docs/python/tf/function for  more details.\n",
      "\u001b[1m1/1\u001b[0m \u001b[32m━━━━━━━━━━━━━━━━━━━━\u001b[0m\u001b[37m\u001b[0m \u001b[1m4s\u001b[0m 4s/step\n",
      "Reconstructed shape: (20, 1024, 3)\n",
      "Min value in reconstructed: -0.005052284337580204\n",
      "Max value in reconstructed: 0.035324469208717346\n",
      "Accuracy: 0.0\n",
      "Precision: 0.0\n",
      "Recall: 0.0\n",
      "SSIM: 0.013486758573701374\n"
     ]
    }
   ],
   "source": [
    "import numpy as np\n",
    "import os\n",
    "import matplotlib.pyplot as plt\n",
    "import tensorflow as tf\n",
    "from tensorflow.keras.datasets import cifar10\n",
    "from tensorflow.keras.models import Model\n",
    "from tensorflow.keras.layers import Input, LSTM, RepeatVector, TimeDistributed, Dense\n",
    "from tensorflow.keras.optimizers import Adam\n",
    "from sklearn.metrics import accuracy_score, precision_score, recall_score\n",
    "from skimage.metrics import structural_similarity as ssim\n",
    "\n",
    "def save_visuals(fig, filename, save_dir=\"visuals\"):\n",
    "    if not os.path.exists(save_dir):\n",
    "        os.makedirs(save_dir)\n",
    "    filepath = os.path.join(save_dir, filename)\n",
    "    fig.savefig(filepath)\n",
    "    plt.close(fig)\n",
    "\n",
    "def load_and_preprocess_data():\n",
    "    (x_train, _), (x_test, _) = cifar10.load_data()\n",
    "    x_train = x_train.astype('float32') / 255.0\n",
    "    x_test = x_test.astype('float32') / 255.0\n",
    "    x_train = x_train.reshape((x_train.shape[0], 1024, 3))\n",
    "    x_test = x_test.reshape((x_test.shape[0], 1024, 3))\n",
    "    return x_train, x_test\n",
    "\n",
    "def blur_images(images):\n",
    "    noise = np.random.normal(loc=0.0, scale=0.1, size=images.shape)\n",
    "    noisy_images = images + noise\n",
    "    return np.clip(noisy_images, 0., 1.)\n",
    "\n",
    "def build_autoencoder():\n",
    "    input_img = Input(shape=(1024, 3))\n",
    "    encoded = LSTM(128, activation='relu')(input_img)\n",
    "    encoded = RepeatVector(1024)(encoded)\n",
    "    decoded = LSTM(128, activation='relu', return_sequences=True)(encoded)\n",
    "    decoded = TimeDistributed(Dense(3))(decoded)\n",
    "    autoencoder = Model(input_img, decoded)\n",
    "    return autoencoder\n",
    "\n",
    "def train_autoencoder(autoencoder, x_train, x_train_noisy, x_test, x_test_noisy):\n",
    "    optimizer = Adam(learning_rate=0.000001, clipnorm=1.0)\n",
    "    autoencoder.compile(optimizer=optimizer, loss='mse')\n",
    "    history = autoencoder.fit(x_train_noisy, x_train, \n",
    "                              epochs=15,  # Increased number of epochs to 15\n",
    "                              batch_size=32, \n",
    "                              validation_data=(x_test_noisy, x_test),\n",
    "                              verbose=2)\n",
    "    return autoencoder, history\n",
    "\n",
    "def plot_and_save_training_history(history, filename=\"training_loss.png\"):\n",
    "    fig, ax = plt.subplots()\n",
    "    ax.plot(history.history['loss'], label='Training Loss')\n",
    "    ax.plot(history.history['val_loss'], label='Validation Loss')\n",
    "    ax.set_title('Training and Validation Loss')\n",
    "    ax.set_xlabel('Epochs')\n",
    "    ax.set_ylabel('Loss')\n",
    "    ax.legend()\n",
    "    save_visuals(fig, filename)\n",
    "\n",
    "def evaluate_model(autoencoder, x_test, x_test_noisy):\n",
    "    reconstructed = autoencoder.predict(x_test_noisy)\n",
    "    print(f\"Reconstructed shape: {reconstructed.shape}\")\n",
    "    print(f\"Min value in reconstructed: {np.min(reconstructed)}\")\n",
    "    print(f\"Max value in reconstructed: {np.max(reconstructed)}\")\n",
    "    \n",
    "    reconstructed = np.clip(reconstructed, 0., 1.)\n",
    "    \n",
    "    x_test_flat = x_test.reshape((-1, 1024 * 3))\n",
    "    reconstructed_flat = reconstructed.reshape((-1, 1024 * 3))\n",
    "    \n",
    "    threshold = 0.5\n",
    "    x_test_binary = (x_test_flat > threshold).astype(int)\n",
    "    reconstructed_binary = (reconstructed_flat > threshold).astype(int)\n",
    "    \n",
    "    accuracy = accuracy_score(x_test_binary, reconstructed_binary)\n",
    "    precision = precision_score(x_test_binary, reconstructed_binary, average='macro', zero_division=0)\n",
    "    recall = recall_score(x_test_binary, reconstructed_binary, average='macro', zero_division=0)\n",
    "    \n",
    "    print(f\"Accuracy: {accuracy}\")\n",
    "    print(f\"Precision: {precision}\")\n",
    "    print(f\"Recall: {recall}\")\n",
    "    \n",
    "    return reconstructed\n",
    "\n",
    "def save_all_images(original, noisy, reconstructed, num_images=5):\n",
    "    save_dir = \"visuals\"\n",
    "    os.makedirs(os.path.join(save_dir, \"original\"), exist_ok=True)\n",
    "    os.makedirs(os.path.join(save_dir, \"noisy\"), exist_ok=True)\n",
    "    os.makedirs(os.path.join(save_dir, \"reconstructed\"), exist_ok=True)\n",
    "\n",
    "    for i in range(num_images):\n",
    "        fig, ax = plt.subplots()\n",
    "        ax.imshow(original[i].reshape(32, 32, 3))\n",
    "        ax.axis('off')\n",
    "        save_visuals(fig, f\"original/original_{i}.png\", save_dir)\n",
    "\n",
    "        fig, ax = plt.subplots()\n",
    "        ax.imshow(noisy[i].reshape(32, 32, 3))\n",
    "        ax.axis('off')\n",
    "        save_visuals(fig, f\"noisy/noisy_{i}.png\", save_dir)\n",
    "\n",
    "        fig, ax = plt.subplots()\n",
    "        ax.imshow(reconstructed[i].reshape(32, 32, 3))\n",
    "        ax.axis('off')\n",
    "        save_visuals(fig, f\"reconstructed/reconstructed_{i}.png\", save_dir)\n",
    "\n",
    "def calculate_ssim(original, reconstructed):\n",
    "    total_ssim = 0\n",
    "    for i in range(len(original)):\n",
    "        total_ssim += ssim(original[i], reconstructed[i], multichannel=True, win_size=3, data_range=1.0)\n",
    "    return total_ssim / len(original)\n",
    "\n",
    "def main():\n",
    "    x_train, x_test = load_and_preprocess_data()\n",
    "    x_train_noisy = blur_images(x_train[:100])\n",
    "    x_test_noisy = blur_images(x_test[:20])\n",
    "\n",
    "    autoencoder = build_autoencoder()\n",
    "    \n",
    "    autoencoder, history = train_autoencoder(autoencoder, x_train[:100], x_train_noisy, x_test[:20], x_test_noisy)\n",
    "    plot_and_save_training_history(history, \"training_loss.png\")\n",
    "\n",
    "    reconstructed = evaluate_model(autoencoder, x_test[:20], x_test_noisy)\n",
    "    save_all_images(x_test[:20], x_test_noisy, reconstructed, num_images=5)\n",
    "    \n",
    "    ssim_value = calculate_ssim(x_test[:20], reconstructed)\n",
    "    print(f\"SSIM: {ssim_value}\")\n",
    "\n",
    "if __name__ == \"__main__\":\n",
    "    main()\n"
   ]
  },
  {
   "cell_type": "code",
   "execution_count": null,
   "id": "a3447f8a-c046-47a8-89ec-4dcf02ee72f7",
   "metadata": {},
   "outputs": [],
   "source": []
  }
 ],
 "metadata": {
  "kernelspec": {
   "display_name": "Python 3 (ipykernel)",
   "language": "python",
   "name": "python3"
  },
  "language_info": {
   "codemirror_mode": {
    "name": "ipython",
    "version": 3
   },
   "file_extension": ".py",
   "mimetype": "text/x-python",
   "name": "python",
   "nbconvert_exporter": "python",
   "pygments_lexer": "ipython3",
   "version": "3.12.6"
  }
 },
 "nbformat": 4,
 "nbformat_minor": 5
}
